{
 "cells": [
  {
   "cell_type": "markdown",
   "id": "d2a158e1-dda3-4c71-9dde-faf4d353043e",
   "metadata": {
    "jp-MarkdownHeadingCollapsed": true
   },
   "source": [
    "# Figure 2) Spaghetti plot: 0 T (Run constant-E slices before MATLAB code)"
   ]
  },
  {
   "cell_type": "markdown",
   "id": "cc7cd3ad-724e-4b98-8a9b-7597c9e899d6",
   "metadata": {
    "jp-MarkdownHeadingCollapsed": true
   },
   "source": [
    "## Import libraries and define functions"
   ]
  },
  {
   "cell_type": "code",
   "execution_count": null,
   "id": "9938ff6b-56a1-4496-8fe4-a9aa55a65a0f",
   "metadata": {},
   "outputs": [],
   "source": [
    "import matplotlib.pyplot as plt\n",
    "try:\n",
    "    import IPython\n",
    "    shell = IPython.get_ipython()\n",
    "    shell.enable_matplotlib(gui='qt')\n",
    "except:\n",
    "    pass\n",
    "\n",
    "from MJOLNIR import _tools\n",
    "from MJOLNIR.Data import DataSet\n",
    "from lmfit import Model, Parameter, report_fit\n",
    "from MJOLNIR.Data import Mask\n",
    "from MJOLNIR._tools import fileListGenerator\n",
    "\n",
    "import numpy as np\n",
    "from os import path\n",
    "from scipy.ndimage import gaussian_filter\n",
    "from scipy import interpolate\n",
    "import pandas as pd\n",
    "import copy"
   ]
  },
  {
   "cell_type": "code",
   "execution_count": null,
   "id": "6bfdeee3-8402-4ef5-b95f-de910d1127d6",
   "metadata": {},
   "outputs": [],
   "source": [
    "def Gaussian(x,A,mu,sigma,B):\n",
    "    return A*np.exp(-np.power(x-mu,2.0)/(2.0*sigma**2))+B\n",
    "def gaussian2(x, bg, amp1, cen1, wid1, amp2, cen2, wid2):\n",
    "    return bg+amp1/(np.sqrt(2*np.pi)*wid1) * np.exp(-(x-cen1)**2 /(2*wid1**2))+amp2/(np.sqrt(2*np.pi)*wid2) * np.exp(-(x-cen2)**2 /(2*wid2**2))"
   ]
  },
  {
   "cell_type": "code",
   "execution_count": null,
   "id": "25c39d9d-2a4f-4494-8800-1e06284544e3",
   "metadata": {},
   "outputs": [],
   "source": [
    "def cleaning(ds,treshold):\n",
    "    i=0\n",
    "    for dataset in range(len(ds)):\n",
    "        for a3 in range(0,len(ds.a3[dataset])-1):\n",
    "            if (np.sum(ds[dataset].I[a3,:,:],axis=(0,1))<treshold):\n",
    "                ds[dataset].I[a3,:,:]=0\n",
    "                ds[dataset].Monitor[a3,:,:]=0\n",
    "                i=i+1\n",
    "    return i"
   ]
  },
  {
   "cell_type": "markdown",
   "id": "0df64f0d-ac7d-49c1-bafd-4f9fe89be4c5",
   "metadata": {
    "jp-MarkdownHeadingCollapsed": true
   },
   "source": [
    "## Read in data"
   ]
  },
  {
   "cell_type": "markdown",
   "id": "a9c1e66f-28f3-42e1-b541-444949e5972b",
   "metadata": {
    "jp-MarkdownHeadingCollapsed": true
   },
   "source": [
    "### (HHL)"
   ]
  },
  {
   "cell_type": "code",
   "execution_count": null,
   "id": "bff6157c-78e8-436c-b5e5-96461d7334fe",
   "metadata": {},
   "outputs": [],
   "source": [
    "files = _tools.fileListGenerator(\"2588-2608\",r\"U:\\Data\\CAMEA\\MnF2\\hdf\",2024)\n",
    "dsHHL = DataSet.DataSet(files)\n",
    "dsHHL.convertDataFile(binning = 8,saveFile=False) \n",
    "#check if problems are in some dataset and correct for it:\n",
    "treshold=50\n",
    "i=cleaning(dsHHL,treshold)\n",
    "print(i)\n",
    "\n",
    "# Symmetrize\n",
    "for i,df in enumerate(dsHHL):\n",
    "    H,K,L = df.h,df.k,df.l\n",
    "    df.qx,df.qy = df.sample.calculateHKLToQxQy(np.abs(H),np.abs(K),np.abs(L))"
   ]
  },
  {
   "cell_type": "markdown",
   "id": "24085106-0897-4a43-b18b-faea5d012b01",
   "metadata": {
    "jp-MarkdownHeadingCollapsed": true
   },
   "source": [
    "### (H0L)"
   ]
  },
  {
   "cell_type": "code",
   "execution_count": null,
   "id": "8de5840d-2b81-4485-8173-6fc752a45c65",
   "metadata": {},
   "outputs": [],
   "source": [
    "files = _tools.fileListGenerator(\"1371-1388\",r\"U:\\Data\\CAMEA\\MnF2\\hdfH0L\",2021)\n",
    "dsH0L = DataSet.DataSet(files)\n",
    "dsH0L.convertDataFile(binning = 8,saveFile=False) \n",
    "#check if problems are in some dataset and correct for it:\n",
    "treshold=50\n",
    "i=cleaning(dsH0L,treshold)\n",
    "print(i)\n",
    "\n",
    "# Symmetrize\n",
    "for i,df in enumerate(dsH0L):\n",
    "    H,K,L = df.h,df.k,df.l\n",
    "    df.qx,df.qy = df.sample.calculateHKLToQxQy(np.abs(H),np.abs(K),np.abs(L))"
   ]
  },
  {
   "cell_type": "markdown",
   "id": "cbb002c2-d7e2-4af7-a79d-7b87e10ba0c9",
   "metadata": {
    "jp-MarkdownHeadingCollapsed": true
   },
   "source": [
    "### (HK0)"
   ]
  },
  {
   "cell_type": "code",
   "execution_count": null,
   "id": "f91341fa-6375-4854-ab6a-47e573808e20",
   "metadata": {},
   "outputs": [],
   "source": [
    "files = _tools.fileListGenerator(\"2745-2767\",r\"U:\\Data\\CAMEA\\MnF2\\hdf\",2024)\n",
    "dsHK0 = DataSet.DataSet(files)\n",
    "dsHK0.convertDataFile(binning = 8,saveFile=False) \n",
    "#check if problems are in some dataset and correct for it:\n",
    "treshold=50\n",
    "i=cleaning(dsHK0,treshold)\n",
    "print(i)\n",
    "\n",
    "# Symmetrize\n",
    "for i,df in enumerate(dsHK0):\n",
    "    H,K,L = df.h,df.k,df.l\n",
    "    df.qx,df.qy = df.sample.calculateHKLToQxQy(np.abs(H),np.abs(K),np.abs(L))"
   ]
  },
  {
   "cell_type": "markdown",
   "id": "e708855d-4cdf-49c4-82f9-9ea0f51641ac",
   "metadata": {},
   "source": [
    "## QE slice along high-symmetry paths"
   ]
  },
  {
   "cell_type": "markdown",
   "id": "d04020df-2717-42be-8106-5950d91bad57",
   "metadata": {},
   "source": [
    "### (HHL)"
   ]
  },
  {
   "cell_type": "code",
   "execution_count": null,
   "id": "8ab4b561-299c-4dee-9c2e-cbad5ac2e345",
   "metadata": {},
   "outputs": [],
   "source": [
    "grid = False\n",
    "dataFiles = None\n",
    "rlu = True\n",
    "dss=dsHHL\n",
    "Q1 = np.array([0,0,1]) # Gamma\n",
    "Q2 = np.array([0.5,0.5,1])  # M\n",
    "Q3 = np.array([0.5,0.5,0.5]) # A\n",
    "Q4 = np.array([1,1,0.5]) # Z\n",
    "Q5 = np.array([1,1,0]) # Gamma\n",
    "EMin = 0  #Energy minimum\n",
    "EMax = 8.45 #Energy maximum\n",
    "dE = 0.1 #Energy steps\n",
    "energy = np.arange(EMin,EMax,dE)\n",
    "width = 0.04 # integration width perpendicular to Q in 1/A\n",
    "minPixel = 0.02 # step along Q in 1/A\n",
    "\n",
    "vmin = 0.0 # caxis minimum\n",
    "vmax = 2 # caxis maximum\n",
    "axFG1,data = dss.plotCutQELine(QPoints=np.array([Q1,Q2,Q3,Q4,Q5]),EnergyBins=energy,width=width,minPixel=minPixel,rlu=rlu,plotSeperator=True,seperatorWidth=1,seperatorColor='w',cmap='turbo')\n",
    "#axFG1.set_title('1.6 K, 0 T')\n",
    "#axFG1.locator_params(axis='x', nbins=7)\n",
    "axFG1.set_ylabel(r'$\\mathrm{\\Delta}\\mathit{E}$ (meV)',fontsize=20)\n",
    "axFG1.set_xlabel(\"\")\n",
    "axFG1.tick_params(axis='both', which='major', labelsize=20)\n",
    "axFG1.set_clim(vmin, vmax)\n",
    "axFG1.get_figure().set_size_inches(10,5)\n",
    "#axFG1.set_xticks([0.0, 0.92, 1.88, 2.8, 3.75], (r\"$\\Gamma$\", \"M\", \"A\", \"Z\", r\"$\\Gamma$\"))\n",
    "axFG1.get_xaxis().set_ticks([]);\n",
    "plt.savefig('U:/Data/Figures/MnF2/Manuscript/Fig2/HHLData.png')"
   ]
  },
  {
   "cell_type": "markdown",
   "id": "5db86c8c-d90b-4644-9e4d-1d369799a414",
   "metadata": {},
   "source": [
    "### (H0L)"
   ]
  },
  {
   "cell_type": "code",
   "execution_count": null,
   "id": "8d448e98-fb2c-4bfa-9fca-6111d1373b1b",
   "metadata": {},
   "outputs": [],
   "source": [
    "grid = False\n",
    "dataFiles = None\n",
    "rlu = True\n",
    "dss=dsH0L\n",
    "Q1 = np.array([1,0,0]) # Gamma\n",
    "Q2 = np.array([1.5,0,0])  # X\n",
    "Q3 = np.array([1.5,0,0.5]) # R\n",
    "Q4 = np.array([1,0,0.5]) # Z\n",
    "EMin = 0  #Energy minimum\n",
    "EMax = 8.45 #Energy maximum\n",
    "dE = 0.1 #Energy steps\n",
    "energy = np.arange(EMin,EMax,dE)\n",
    "width = 0.04 # integration width perpendicular to Q in 1/A\n",
    "minPixel = 0.03 # step along Q in 1/A\n",
    "\n",
    "vmin = 0.0 # caxis minimum\n",
    "vmax = 0.1 # caxis maximum\n",
    "axFG2,data = dss.plotCutQELine(QPoints=np.array([Q1,Q2,Q3,Q4]),EnergyBins=energy,width=width,minPixel=minPixel,rlu=rlu,plotSeperator=True,seperatorWidth=1,seperatorColor='w',cmap='turbo')\n",
    "#axFG2.set_title('1.6 K, 0 T')\n",
    "#axFG2.locator_params(axis='x', nbins=7)\n",
    "#axFG2.set_ylabel(r'$\\Delta \\it{E}$ (meV)',fontsize=20)\n",
    "axFG2.set_ylabel(\"\")\n",
    "axFG2.set_xlabel(\"\")\n",
    "axFG2.tick_params(axis='both', which='major', labelsize=20)\n",
    "axFG2.set_clim(vmin, vmax)\n",
    "axFG2.get_figure().set_size_inches(7.5,5)\n",
    "#axFG2.set_xticks([-0.02, 0.645, 1.605, 2.25], (r\"$\\Gamma$\", \"X\", \"R\", \"Z\"))\n",
    "axFG2.get_xaxis().set_ticks([]);\n",
    "axFG2.set_xlim(-0.02, 2.25)\n",
    "plt.savefig('U:/Data/Figures/MnF2/Manuscript/Fig2/H0LData.png')"
   ]
  },
  {
   "cell_type": "markdown",
   "id": "976ed871-d48f-4ca2-aa5f-f90cf9b5ee6f",
   "metadata": {},
   "source": [
    "### (HK0)"
   ]
  },
  {
   "cell_type": "code",
   "execution_count": null,
   "id": "2595bfa1-30d8-42c8-acbc-02cf47dcd9bb",
   "metadata": {},
   "outputs": [],
   "source": [
    "grid = False\n",
    "dataFiles = None\n",
    "rlu = True\n",
    "dss=dsHK0\n",
    "Q1 = np.array([1,0.5,0]) # X\n",
    "Q2 = np.array([1.5,0.5,0]) # M\n",
    "EMin = 0  #Energy minimum\n",
    "EMax = 8.45 #Energy maximum\n",
    "dE = 0.1 #Energy steps\n",
    "energy = np.arange(EMin,EMax,dE)\n",
    "width = 0.04 # integration width perpendicular to Q in 1/A\n",
    "minPixel = 0.02 # step along Q in 1/A\n",
    "\n",
    "vmin = 0.0 # caxis minimum\n",
    "vmax = 1 # caxis maximum\n",
    "axFG3,data = dss.plotCutQELine(QPoints=np.array([Q1,Q2]),EnergyBins=energy,width=width,minPixel=minPixel,rlu=rlu,plotSeperator=True,seperatorWidth=1,seperatorColor='w',cmap='turbo')\n",
    "#axFG3.set_title('1.6 K, 0 T')\n",
    "#axFG3.locator_params(axis='x', nbins=7)\n",
    "#axFG3.set_ylabel(r'$\\Delta \\it{E}$ (meV)',fontsize=20)\n",
    "axFG3.set_ylabel(\"\")\n",
    "axFG3.set_xlabel(\"\")\n",
    "axFG3.tick_params(axis='both', which='major', labelsize=20)\n",
    "axFG3.set_clim(vmin, vmax)\n",
    "axFG3.get_figure().set_size_inches(2.5,5)\n",
    "#axFG3.set_xticks([-0.015, 0.645], (\"X\", \"M\"))\n",
    "axFG3.get_xaxis().set_ticks([]);\n",
    "plt.savefig('U:/Data/Figures/MnF2/Manuscript/Fig2/HK0Data.png', bbox_inches='tight')"
   ]
  },
  {
   "cell_type": "markdown",
   "id": "ae4c9fc5-33d8-4f7b-9115-578efbbacb29",
   "metadata": {},
   "source": [
    "## Constant-E Slices"
   ]
  },
  {
   "cell_type": "code",
   "execution_count": null,
   "id": "9ff3f2d9-dbee-439c-be9f-f02919e0764b",
   "metadata": {},
   "outputs": [],
   "source": [
    "EMin = 3.95 #Energy minimum\n",
    "EMax = 4.05 #Energy maximum\n",
    "xBinTolerance = .03 #value in 1/A. binning along x\n",
    "yBinTolerance = .03 #value in 1/A. binning along y\n",
    "vmin=0.0 #minimum of the color scale\n",
    "vmax=.7 #maximum of the color scale\n",
    "Data,ax = dsHK0.plotQPlane(EMin=EMin, EMax=EMax, xBinTolerance=xBinTolerance, yBinTolerance=yBinTolerance, log=False, cmap = 'turbo')\n",
    "fig = ax.get_figure() # Extract figure from returned axis\n",
    "fig.colorbar(ax.pmeshs[0]) # Create colorbar from plot\n",
    "ax.set_clim(vmin,vmax)\n",
    "ax.set_xlabel(\"(001) (rlu)\")\n",
    "ax.set_ylabel(\"(110) (rlu)\")\n",
    "ax.tick_params(axis='both', which='major', labelsize=16)\n",
    "ax.get_figure().set_size_inches(5,5)\n",
    "ax.set_xlim(0, 2.01)\n",
    "ax.set_ylim(0, 2.01)\n",
    "ax.grid(False)\n",
    "\n",
    "# Save Pandas DataFrame\n",
    "dir = 'U:/Data/Figures/MnF2/Manuscript/Fig2/HK0'+str(round(np.mean((EMin, EMax))))+'meV.csv'\n",
    "Data.to_csv(dir)"
   ]
  },
  {
   "cell_type": "markdown",
   "id": "ecdde365-bcd8-4ed4-a6d1-3b5496d083f2",
   "metadata": {},
   "source": [
    "# Figure 3) High-resolution slices, cuts: 0 T (Run after MATLAB code)"
   ]
  },
  {
   "cell_type": "markdown",
   "id": "a371d996-7ce7-4f5a-96cc-5dc75d80b627",
   "metadata": {},
   "source": [
    "## Import libraries and define functions"
   ]
  },
  {
   "cell_type": "code",
   "execution_count": 1,
   "id": "b1a857f5-18fa-4392-bc87-bc31e911e151",
   "metadata": {},
   "outputs": [],
   "source": [
    "import matplotlib.pyplot as plt\n",
    "import matplotlib.cm as cm\n",
    "try:\n",
    "    import IPython\n",
    "    shell = IPython.get_ipython()\n",
    "    shell.enable_matplotlib(gui='qt')\n",
    "except:\n",
    "    pass\n",
    "\n",
    "from MJOLNIR import _tools\n",
    "from MJOLNIR.Data import DataSet\n",
    "from lmfit import Model, Parameter, report_fit\n",
    "from MJOLNIR.Data import Mask\n",
    "from MJOLNIR._tools import fileListGenerator\n",
    "\n",
    "import numpy as np\n",
    "from os import path\n",
    "from scipy.ndimage import gaussian_filter\n",
    "from scipy import interpolate\n",
    "import pandas as pd\n",
    "import copy"
   ]
  },
  {
   "cell_type": "code",
   "execution_count": 2,
   "id": "1e985965-2b2a-4bf9-a843-f1e584c5aca2",
   "metadata": {},
   "outputs": [],
   "source": [
    "def gaussian(x,bg, amp1, cen1, wid1):\n",
    "    return bg+amp1/(np.sqrt(2*np.pi)*wid1) * np.exp(-(x-cen1)**2 /(2*wid1**2))"
   ]
  },
  {
   "cell_type": "code",
   "execution_count": 3,
   "id": "c1aa85f9-e454-4d14-a3e8-c5d391a46c73",
   "metadata": {},
   "outputs": [],
   "source": [
    "def cleaning(ds,treshold):\n",
    "    i=0\n",
    "    for dataset in range(len(ds)):\n",
    "        for a3 in range(0,len(ds.a3[dataset])-1):\n",
    "            if (np.sum(ds[dataset].I[a3,:,:],axis=(0,1))<treshold):\n",
    "                ds[dataset].I[a3,:,:]=0\n",
    "                ds[dataset].Monitor[a3,:,:]=0\n",
    "                i=i+1\n",
    "    return i"
   ]
  },
  {
   "cell_type": "markdown",
   "id": "9a39d304-f952-4482-a476-73bf6b9d9b49",
   "metadata": {},
   "source": [
    "## Read in data"
   ]
  },
  {
   "cell_type": "markdown",
   "id": "7be9a040-0a29-49d9-83e2-63e96010abd6",
   "metadata": {},
   "source": [
    "### 1.5 K, 0 T, High E-resolution scan, (HHL)"
   ]
  },
  {
   "cell_type": "code",
   "execution_count": 4,
   "id": "09e4be95-d389-4f23-82bf-1ef4ffbcd671",
   "metadata": {},
   "outputs": [
    {
     "name": "stdout",
     "output_type": "stream",
     "text": [
      "0\n"
     ]
    }
   ],
   "source": [
    "files = _tools.fileListGenerator(\"2644-2659\",r\"U:\\Data\\CAMEA\\MnF2\\hdf\",2024)\n",
    "dsHR = DataSet.DataSet(files)\n",
    "dsHR.convertDataFile(binning = 8,saveFile=False) \n",
    "\n",
    "# Mask tube 23 which is displaced in the older normalization\n",
    "mask=[]\n",
    "mask.append(Mask.indexMask(23,24,axis=1))\n",
    "dsHR.mask = [np.logical_or(m1,m2) for m1,m2 in zip(dsHR.mask,np.sum(mask)(dsHR))]\n",
    "\n",
    "#check if problems are in some dataset and correct for it:\n",
    "treshold=50\n",
    "i=cleaning(dsHR,treshold)\n",
    "print(i)"
   ]
  },
  {
   "cell_type": "markdown",
   "id": "cbe3427a-7a8b-4e0c-b057-69d7ba52a0ee",
   "metadata": {},
   "source": [
    "## Plot slice from Z to A"
   ]
  },
  {
   "cell_type": "code",
   "execution_count": 5,
   "id": "45648f8d-1c71-4709-9ab6-3c8e2f03db77",
   "metadata": {},
   "outputs": [],
   "source": [
    "%matplotlib qt\n",
    "dset=dsHR\n",
    "rlu = True\n",
    "#grid = -10\n",
    "grid = False\n",
    "self = dset\n",
    "dataFiles = None\n",
    "rlu = True\n",
    "Q1 = np.array([0.45,0.45,0.5]) #Q1 of cut\n",
    "Q2 = np.array([1.05,1.05,0.5]) #Q2 of cut\n",
    "EMin = 6.45 #Energy minimum\n",
    "EMax = 7.35 #Energy maximum\n",
    "dE = 0.05 #Energy steps\n",
    "energy = np.arange(EMin,EMax,dE)\n",
    "width = 0.03 #integration width perpendicular to Q in 1/A\n",
    "minPixel = 0.03 #step along Q in 1/A\n",
    "vmin=0 #caxis minimum\n",
    "vmax=1 #caxis maximum\n",
    "\n",
    "axSUB,data,bins = dset.plotCutQE(Q1,Q2,EnergyBins=energy,width=width,minPixel=minPixel,vmin=vmin,vmax=vmax,colorbar=True,cmap='turbo')\n",
    "axSUB.set_ylabel(r'$\\mathrm{\\Delta}\\mathit{E}$ (meV)', fontsize=16)\n",
    "axSUB.set_xlabel(\"\")\n",
    "axSUB.tick_params(axis='both', which='major', labelsize=16)\n",
    "axSUB.set_clim(vmin, vmax)\n",
    "axSUB.set_xlim(0, 1)\n",
    "axSUB.get_figure().set_size_inches(10,5)\n",
    "axSUB.set_xticks([0.0833, 0.917], (\"A\", \"Z\"))\n",
    "plt.axvline(x=0.0833, color='m', linewidth=3.0, linestyle='--')\n",
    "plt.axvline(x=0.5, color='m', linewidth=3.0, linestyle='--')\n",
    "plt.axvline(x=0.917, color='m', linewidth=3.0, linestyle='--')\n",
    "#cb = axSUB.get_figure().colorbar(cm.ScalarMappable(norm=None, cmap='turbo'), ax=axSUB, ticks=[0, 1])\n",
    "#cb.set_label(label='$I$ (arb. units)', size=18)\n",
    "#cb.ax.tick_params(labelsize=18)\n",
    "cb = axSUB.colorbar\n",
    "cb.set_label(label='$I$ (arb. units)', size=16)\n",
    "cb.ax.tick_params(labelsize=16)\n",
    "cb.set_ticks([0, 1])\n",
    "plt.show()"
   ]
  },
  {
   "cell_type": "markdown",
   "id": "62cf741d-066b-410a-ae0f-fc844c85504e",
   "metadata": {},
   "source": [
    "### Overplot the dispersion"
   ]
  },
  {
   "cell_type": "code",
   "execution_count": 6,
   "id": "d48c002d-6991-4a60-b664-589e36a0ce77",
   "metadata": {},
   "outputs": [],
   "source": [
    "# Read in the fitted modes from SpinW. See https://mjolnir.readthedocs.io/en/latest/notebooks/OverviewofCAMEAData.html#The-MnF2-dispersion-theory, https://mjolnir.readthedocs.io/en/latest/notebooks/Fittingofsequential1Dcuts.html.\n",
    "hklFit = np.loadtxt('U:/Data/MATLAB/MnF2/hklFit.txt')\n",
    "omegaFit = np.loadtxt('U:/Data/MATLAB/MnF2/omegaFit.txt')\n",
    "hklFit = np.transpose(hklFit)\n",
    "XPosition = np.concatenate([axSUB.calculatePositionInv(hkl.reshape(1,-1)) for hkl in hklFit])\n",
    "axSUB.plot(XPosition, omegaFit[0], color='k', linewidth=2, linestyle='-')\n",
    "axSUB.plot(XPosition, omegaFit[1], color='k', linewidth=2, linestyle='-')\n",
    "\n",
    "# Read in the split modes from SpinW. See https://mjolnir.readthedocs.io/en/latest/notebooks/OverviewofCAMEAData.html#The-MnF2-dispersion-theory, https://mjolnir.readthedocs.io/en/latest/notebooks/Fittingofsequential1Dcuts.html.\n",
    "hklSplit = np.loadtxt('U:/Data/MATLAB/MnF2/hklSplit.txt')\n",
    "omegaSplit = np.loadtxt('U:/Data/MATLAB/MnF2/omegaSplit.txt')\n",
    "hklSplit = np.transpose(hklSplit)\n",
    "XPosition = np.concatenate([axSUB.calculatePositionInv(hkl.reshape(1,-1)) for hkl in hklSplit])\n",
    "axSUB.plot(XPosition, omegaSplit[0], color='w', linewidth=2, linestyle='-')\n",
    "axSUB.plot(XPosition, omegaSplit[1], color='w', linewidth=2, linestyle='-')\n",
    "plt.savefig('U:/Data/Figures/MnF2/Manuscript/Fig3/AZSlice.png')"
   ]
  },
  {
   "cell_type": "markdown",
   "id": "e9cc3072-0784-4787-ab70-9643b987d693",
   "metadata": {},
   "source": [
    "## Plot E cuts"
   ]
  },
  {
   "cell_type": "code",
   "execution_count": 7,
   "id": "817c6260-b094-4cee-ba7e-c965eb642c0a",
   "metadata": {},
   "outputs": [
    {
     "name": "stdout",
     "output_type": "stream",
     "text": [
      "Q: [0.5 0.5 0.5]\n",
      "FWHM: 0.197+-0.006 meV\n",
      "Q: [0.75 0.75 0.5 ]\n",
      "FWHM: 0.216+-0.008 meV\n",
      "Q: [1.  1.  0.5]\n",
      "FWHM: 0.202+-0.009 meV\n"
     ]
    }
   ],
   "source": [
    "dss=dsHR\n",
    "Q1 = np.array([0.5,0.5,0.5])  #Q-position\n",
    "Q2 = np.array([0.75,0.75,0.5])  #Q-position\n",
    "Q3 = np.array([1,1,0.5])  #Q-position\n",
    "\n",
    "# A\n",
    "width = 0.025 #integration width perpendicular to Q in 1/A\n",
    "minPixel = 0.05 #step along Energy\n",
    "EMin=6.4 #Minimum of energy\n",
    "EMax=7.3 #Maximum of enerrgy\n",
    "rlu = True\n",
    "constantBins = True\n",
    "scanvar='Energy'\n",
    "data, bin = dss.cut1DE(E1=EMin,E2=EMax,q=Q1,width=width,minPixel=minPixel,rlu=rlu,constantBins=constantBins,ufit=False)\n",
    "data = data.drop(data[data['Int']==0].index).reset_index(drop=True) # Drop data pandas dataframe rows with 0 counts\n",
    "fig, (axs1, axs2, axs3)=plt.subplots(1, 3, figsize=(10,6), sharey=True)\n",
    "plt.subplots_adjust(wspace = 0.03)\n",
    "axs1.errorbar(data['Energy'],data['Int'],data['Int_err'], marker='o',linestyle='',markersize='10',capsize=3,elinewidth=3)\n",
    "gmodel = Model(gaussian)\n",
    "result = gmodel.fit(data['Int'], x=data['Energy'], bg=0.001, amp1=1, cen1=7, wid1=0.1, weights=1/data['Int_err'])\n",
    "axs1.plot(np.linspace(np.array(data['Energy'])[0],np.array(data['Energy'])[-1],1000),\n",
    "gaussian(np.linspace(np.array(data['Energy'])[0],np.array(data['Energy'])[-1],1000),result.params['bg'],\n",
    "result.params['amp1'],result.params['cen1'],result.params['wid1']),linestyle='--',color='m',linewidth=2)\n",
    "axs1.set_title(\"\")\n",
    "axs1.set_xlabel(r\"$\\mathrm{\\Delta}\\mathit{E}$ (meV)\", fontsize=20)\n",
    "axs1.set_ylabel(r\"$\\it{I}$ (arb. units)\", fontsize=20)\n",
    "#print(result.chisqr)\n",
    "#axs1.hlines(y = result.params['bg'].value + result.params['amp1'].value/(np.sqrt(2*np.pi)*result.params['wid1'].value)/2, xmin = result.params['cen1'].value - result.params['wid1'].value*np.sqrt(2*np.log(2)), xmax = result.params['cen1'].value + result.params['wid1'].value*np.sqrt(2*np.log(2)), linewidth = 4, linestyle = '-', color = 'k')\n",
    "#axs1.legend(frameon=True)\n",
    "#axs1.text(0.03, 0.95, \"A\" \"\\n\" \"0.190(9) meV\", transform=axs1.transAxes, fontsize=20, verticalalignment='top')\n",
    "axs1.text(0.7, 0.98, \"0.197(6) meV\", transform=axs1.transAxes, fontsize=20, verticalalignment='top', horizontalalignment='right')\n",
    "axs1.set_ylim(0, 1.2)\n",
    "axs1.set_xlim(6.4, 7.3)\n",
    "axs1.tick_params(right = True)\n",
    "axs1.tick_params(axis='both', which='major', labelsize=18, color='m', labelcolor='k')\n",
    "for spine in axs1.spines.values():\n",
    "    spine.set_edgecolor('m')\n",
    "print(\"Q: \" + str(Q1) + \"\\n\" \"FWHM: \" + str(round(result.params['wid1'].value*2*np.sqrt(2*np.log(2)), 3)) + r\"+-\" + str(round(result.params['wid1'].stderr*2*np.sqrt(2*np.log(2)), 3)) + \" meV\")\n",
    "\n",
    "\n",
    "# Midpoint\n",
    "width = 0.025 #integration width perpendicular to Q in 1/A\n",
    "minPixel = 0.05 #step along Energy\n",
    "EMin=6.4 #Minimum of energy\n",
    "EMax=7.3 #Maximum of enerrgy\n",
    "rlu = True\n",
    "constantBins = True\n",
    "scanvar='Energy'\n",
    "data, bin = dss.cut1DE(E1=EMin,E2=EMax,q=Q2,width=width,minPixel=minPixel,rlu=rlu,constantBins=constantBins,ufit=False)\n",
    "data = data.drop(data[data['Int']==0].index).reset_index(drop=True) # Drop data pandas dataframe rows with 0 counts\n",
    "axs2.errorbar(data['Energy'],data['Int'],data['Int_err'], marker='o',linestyle='',markersize='10',capsize=3,elinewidth=3)\n",
    "gmodel = Model(gaussian)\n",
    "result = gmodel.fit(data['Int'], x=data['Energy'], bg=0.001, amp1=1, cen1=6.9, wid1=0.1, weights=1/data['Int_err'])\n",
    "axs2.plot(np.linspace(np.array(data['Energy'])[0],np.array(data['Energy'])[-1],1000),\n",
    "gaussian(np.linspace(np.array(data['Energy'])[0],np.array(data['Energy'])[-1],1000),result.params['bg'],\n",
    "result.params['amp1'],result.params['cen1'],result.params['wid1']),linestyle='--',color='m',linewidth=2)\n",
    "axs2.set_title(\"\")\n",
    "axs2.set_xlabel(r\"$\\mathrm{\\Delta}\\mathit{E}$ (meV)\", fontsize=20)\n",
    "axs2.set_ylabel(\"\")\n",
    "axs2.tick_params(labelleft = False)\n",
    "#print(result.chisqr)\n",
    "#axs2.hlines(y = result.params['bg'].value + result.params['amp1'].value/(np.sqrt(2*np.pi)*result.params['wid1'].value)/2, xmin = result.params['cen1'].value - result.params['wid1'].value*np.sqrt(2*np.log(2)), xmax = result.params['cen1'].value + result.params['wid1'].value*np.sqrt(2*np.log(2)), linewidth = 4, linestyle = '-', color = 'k')\n",
    "#axs2.legend(frameon=True)\n",
    "#axs2.text(0.03, 0.95, r\"$\\left( \\frac{3}{4} \\frac{3}{4} \\frac{1}{2} \\right)$\" \"\\n\" \"0.21(1) meV\", transform=axs2.transAxes, fontsize=20, verticalalignment='top')\n",
    "axs2.text(0.7, 0.98, \"0.216(8) meV\", transform=axs2.transAxes, fontsize=20, verticalalignment='top', horizontalalignment='right')\n",
    "axs2.set_xlim(6.4, 7.3)\n",
    "axs2.tick_params(right = True)\n",
    "axs2.tick_params(axis='both', which='major', labelsize=18, color='m', labelcolor='k')\n",
    "for spine in axs2.spines.values():\n",
    "    spine.set_edgecolor('m')\n",
    "print(\"Q: \" + str(Q2) + \"\\n\" \"FWHM: \" + str(round(result.params['wid1'].value*2*np.sqrt(2*np.log(2)), 3)) + r\"+-\" + str(round(result.params['wid1'].stderr*2*np.sqrt(2*np.log(2)), 3)) + \" meV\")\n",
    "\n",
    "\n",
    "# Z\n",
    "width = 0.025 #integration width perpendicular to Q in 1/A\n",
    "minPixel = 0.05 #step along Energy\n",
    "EMin=6.4 #Minimum of energy\n",
    "EMax=7.3 #Maximum of enerrgy\n",
    "rlu = True\n",
    "constantBins = True\n",
    "scanvar='Energy'\n",
    "data, bin = dss.cut1DE(E1=EMin,E2=EMax,q=Q3,width=width,minPixel=minPixel,rlu=rlu,constantBins=constantBins,ufit=False)\n",
    "data = data.drop(data[data['Int']==0].index).reset_index(drop=True) # Drop data pandas dataframe rows with 0 counts\n",
    "axs3.errorbar(data['Energy'],data['Int'],data['Int_err'], marker='o',linestyle='',markersize='10',capsize=3,elinewidth=3)\n",
    "gmodel = Model(gaussian)\n",
    "result = gmodel.fit(data['Int'], x=data['Energy'], bg=0.001, amp1=1, cen1=6.9, wid1=0.1, weights=1/data['Int_err'])\n",
    "axs3.plot(np.linspace(np.array(data['Energy'])[0],np.array(data['Energy'])[-1],1000),\n",
    "gaussian(np.linspace(np.array(data['Energy'])[0],np.array(data['Energy'])[-1],1000),result.params['bg'],\n",
    "result.params['amp1'],result.params['cen1'],result.params['wid1']),linestyle='--',color='m',linewidth=2)\n",
    "axs3.set_title(\"\")\n",
    "axs3.set_xlabel(r\"$\\mathrm{\\Delta}\\mathit{E}$ (meV)\", fontsize=20)\n",
    "axs3.set_ylabel(\"\")\n",
    "axs3.tick_params(labelleft = False)\n",
    "#print(result.chisqr)\n",
    "#axs3.hlines(y = result.params['bg'].value + result.params['amp1'].value/(np.sqrt(2*np.pi)*result.params['wid1'].value)/2, xmin = result.params['cen1'].value - result.params['wid1'].value*np.sqrt(2*np.log(2)), xmax = result.params['cen1'].value + result.params['wid1'].value*np.sqrt(2*np.log(2)), linewidth = 4, linestyle = '-', color = 'k')\n",
    "#axs3.legend(frameon=True)\n",
    "axs3.tick_params(axis='both', which='major', labelsize=18, color='m', labelcolor='k')\n",
    "for spine in axs3.spines.values():\n",
    "    spine.set_edgecolor('m')\n",
    "#axs3.text(0.03, 0.95, \"Z\" \"\\n\" \"0.21(1) meV\", transform=axs3.transAxes, fontsize=20, verticalalignment='top')\n",
    "axs3.text(0.7, 0.98, \"0.202(9) meV\", transform=axs3.transAxes, fontsize=20, verticalalignment='top', horizontalalignment='right')\n",
    "axs3.set_xlim(6.4, 7.3)\n",
    "print(\"Q: \" + str(Q3) + \"\\n\" \"FWHM: \" + str(round(result.params['wid1'].value*2*np.sqrt(2*np.log(2)), 3)) + r\"+-\" + str(round(result.params['wid1'].stderr*2*np.sqrt(2*np.log(2)), 3)) + \" meV\")\n",
    "fig.savefig('U:/Data/Figures/MnF2/Manuscript/Fig3/ECuts.png', bbox_inches='tight')"
   ]
  },
  {
   "cell_type": "markdown",
   "id": "eddd3542-fa45-4e37-88c9-83d7810203c3",
   "metadata": {
    "jp-MarkdownHeadingCollapsed": true
   },
   "source": [
    "# Figure 4) Spaghetti plot: 10 T (Run after MATLAB code)"
   ]
  },
  {
   "cell_type": "markdown",
   "id": "17b43f18-23c2-4eb9-8290-158fc987e9ae",
   "metadata": {},
   "source": [
    "## Import libraries and define functions"
   ]
  },
  {
   "cell_type": "code",
   "execution_count": null,
   "id": "c360b6de-3425-41cb-83a6-3e8e08c99579",
   "metadata": {},
   "outputs": [],
   "source": [
    "import matplotlib.pyplot as plt\n",
    "import matplotlib.cm as cm\n",
    "try:\n",
    "    import IPython\n",
    "    shell = IPython.get_ipython()\n",
    "    shell.enable_matplotlib(gui='qt')\n",
    "except:\n",
    "    pass\n",
    "\n",
    "from MJOLNIR import _tools\n",
    "from MJOLNIR.Data import DataSet\n",
    "from lmfit import Model, Parameter, report_fit\n",
    "from MJOLNIR.Data import Mask\n",
    "from MJOLNIR._tools import fileListGenerator\n",
    "\n",
    "import numpy as np\n",
    "from os import path\n",
    "from scipy.ndimage import gaussian_filter\n",
    "from scipy import interpolate\n",
    "import pandas as pd\n",
    "import copy"
   ]
  },
  {
   "cell_type": "code",
   "execution_count": null,
   "id": "fb800867-1877-48f4-8e15-6605c5819596",
   "metadata": {},
   "outputs": [],
   "source": [
    "def Gaussian(x,A,mu,sigma,B):\n",
    "    return A*np.exp(-np.power(x-mu,2.0)/(2.0*sigma**2))+B\n",
    "def gaussian2(x, bg, amp1, cen1, wid1, amp2, cen2, wid2):\n",
    "    return bg+amp1/(np.sqrt(2*np.pi)*wid1) * np.exp(-(x-cen1)**2 /(2*wid1**2))+amp2/(np.sqrt(2*np.pi)*wid2) * np.exp(-(x-cen2)**2 /(2*wid2**2))"
   ]
  },
  {
   "cell_type": "code",
   "execution_count": null,
   "id": "68899289-6c67-4290-9ef4-e6a807a91428",
   "metadata": {},
   "outputs": [],
   "source": [
    "def cleaning(ds,treshold):\n",
    "    i=0\n",
    "    for dataset in range(len(ds)):\n",
    "        for a3 in range(0,len(ds.a3[dataset])-1):\n",
    "            if (np.sum(ds[dataset].I[a3,:,:],axis=(0,1))<treshold):\n",
    "                ds[dataset].I[a3,:,:]=0\n",
    "                ds[dataset].Monitor[a3,:,:]=0\n",
    "                i=i+1\n",
    "    return i"
   ]
  },
  {
   "cell_type": "markdown",
   "id": "71b45912-55ca-48d9-bfe9-42401a487446",
   "metadata": {},
   "source": [
    "## Read in data"
   ]
  },
  {
   "cell_type": "code",
   "execution_count": null,
   "id": "61bf0123-b950-4644-b742-09daa6c15e68",
   "metadata": {},
   "outputs": [],
   "source": [
    "files = _tools.fileListGenerator(\"2671-2694\",r\"U:\\Data\\CAMEA\\MnF2\\hdf\",2024)\n",
    "ds10T = DataSet.DataSet(files)\n",
    "ds10T.convertDataFile(binning = 8,saveFile=False) \n",
    "#check if problems are in some dataset and correct for it:\n",
    "treshold=50\n",
    "i=cleaning(ds10T,treshold)\n",
    "print(i)\n",
    "\n",
    "# Symmetrize\n",
    "for i,df in enumerate(ds10T):\n",
    "    H,K,L = df.h,df.k,df.l\n",
    "    df.qx,df.qy = df.sample.calculateHKLToQxQy(np.abs(H),np.abs(K),np.abs(L))"
   ]
  },
  {
   "cell_type": "markdown",
   "id": "acf59900-80e0-41f2-8ca6-c8ff7ea9bfa2",
   "metadata": {},
   "source": [
    "## QE slice along high-symmetry paths"
   ]
  },
  {
   "cell_type": "code",
   "execution_count": null,
   "id": "9d40c871-2b16-4c4e-96ce-7af9de789038",
   "metadata": {
    "scrolled": true
   },
   "outputs": [],
   "source": [
    "grid = False\n",
    "dataFiles = None\n",
    "rlu = True\n",
    "dss=ds10T\n",
    "Q1 = [0,0,1] # Gamma\n",
    "Q2 = [0.5,0.5,1] # M\n",
    "Q3 = [0.5,0.5,0.5] # A\n",
    "Q4 = [1,1,0.5] # Z\n",
    "Q5 = [1,1,0] # Gamma\n",
    "EMin = 0  #Energy minimum\n",
    "EMax = 8.45 #Energy maximum\n",
    "dE = 0.1 #Energy steps\n",
    "energy = np.arange(EMin,EMax,dE)\n",
    "width = 0.04 # integration width perpendicular to Q in 1/A\n",
    "minPixel = 0.02 # step along Q in 1/A\n",
    "\n",
    "vmin = 0.0 # caxis minimum\n",
    "vmax = 2 # caxis maximum\n",
    "ax1,data = dss.plotCutQELine(QPoints=[Q1,Q2,Q3,Q4,Q5],EnergyBins=energy,width=width,minPixel=minPixel,rlu=rlu,plotSeperator=True,seperatorWidth=1,seperatorColor='w',cmap='turbo')\n",
    "ax1.set_ylabel(r'$\\mathrm{\\Delta}\\mathit{E}$ (meV)', fontsize=18)\n",
    "ax1.set_xlabel(\"\")\n",
    "ax1.tick_params(axis='both', which='major', labelsize=18)\n",
    "ax1.set_clim(vmin, vmax)\n",
    "ax1.set_xlim(-0.02, 3.76);\n",
    "ax1.set_xticks([-0.02, 0.915, 1.873, 2.802, 3.76], (r\"$\\Gamma$\", \"M\", \"A\", \"Z\", r\"$\\Gamma$\"));\n",
    "ax1.get_figure().set_size_inches(10,5)\n",
    "cb = ax1.get_figure().colorbar(cm.ScalarMappable(norm=None, cmap='turbo'), ax=ax1, ticks=[0, 1])\n",
    "cb.set_label(label='$I$ (arb. units)', size=18)\n",
    "cb.ax.tick_params(labelsize=18)\n",
    "plt.vlines(x=0.915/4, ymin=0.26, ymax=3.85, colors='w', linewidth=2.0, linestyle='dashed')\n",
    "plt.hlines(y=3.85, xmin=0, xmax=0.915/4, colors='w', linewidth=2.0, linestyle='dashed')\n",
    "plt.hlines(y=0.26, xmin=0, xmax=0.915/4, colors='w', linewidth=2.0, linestyle='dashed')"
   ]
  },
  {
   "cell_type": "markdown",
   "id": "571bd877-e222-4d81-8ba9-3f90ed50069d",
   "metadata": {},
   "source": [
    "### Read in the split modes from SpinW."
   ]
  },
  {
   "cell_type": "code",
   "execution_count": null,
   "id": "16b76c36-c9ae-42f9-a4b6-bd5c4b7134a4",
   "metadata": {},
   "outputs": [],
   "source": [
    "#See https://mjolnir.readthedocs.io/en/latest/notebooks/OverviewofCAMEAData.html#The-MnF2-dispersion-theory, https://mjolnir.readthedocs.io/en/latest/notebooks/Fittingofsequential1Dcuts.html.\n",
    "hklSplit = np.loadtxt('U:/Data/MATLAB/MnF2/hklFit10T.txt')\n",
    "omegaSplit = np.loadtxt('U:/Data/MATLAB/MnF2/omegaFit10T.txt')\n",
    "hklSplit = np.transpose(hklSplit)\n",
    "# Which slice for which Q indices\n",
    "hklSplit1 = hklSplit[0:223];\n",
    "hklSplit2 = hklSplit[223:445];\n",
    "hklSplit3 = hklSplit[445:667];\n",
    "hklSplit4 = hklSplit[667:len(hklSplit)];\n",
    "hklSplit1 = np.insert(hklSplit1, 3, 0, axis=1)\n",
    "hklSplit2 = np.insert(hklSplit2, 3, 1, axis=1)\n",
    "hklSplit3 = np.insert(hklSplit3, 3, 2, axis=1)\n",
    "hklSplit4 = np.insert(hklSplit4, 3, 3, axis=1)\n",
    "hklforPosition = np.concatenate((hklSplit1, hklSplit2, hklSplit3, hklSplit4))\n",
    "XPosition = [ax1.calculatePositionInv(hkl.reshape(1,-1)) for hkl in hklforPosition]\n",
    "ax1.plot(XPosition, omegaSplit[0], color='k', linewidth=2, linestyle='--')\n",
    "ax1.plot(XPosition, omegaSplit[1], color='k', linewidth=2, linestyle='--')\n",
    "plt.savefig('U:/Data/Figures/MnF2/Manuscript/Fig4/HHLData.png')"
   ]
  },
  {
   "cell_type": "markdown",
   "id": "351549ba-b48d-4ab3-99a7-21cb9fe35578",
   "metadata": {},
   "source": [
    "### Zoom in on the splitting"
   ]
  },
  {
   "cell_type": "code",
   "execution_count": null,
   "id": "3325a7ea-213f-4642-bc40-cc3416d275c8",
   "metadata": {},
   "outputs": [],
   "source": [
    "grid = False\n",
    "dataFiles = None\n",
    "rlu = True\n",
    "dss=ds10T\n",
    "Q1 = [0,0,1] # Gamma\n",
    "Q2 = [1/8,1/8,1]\n",
    "EMin = 0  #Energy minimum\n",
    "EMax = 4 #Energy maximum\n",
    "dE = 0.1 #Energy steps\n",
    "energy = np.arange(EMin,EMax,dE)\n",
    "width = 0.04 # integration width perpendicular to Q in 1/A\n",
    "minPixel = 0.02 # step along Q in 1/A\n",
    "\n",
    "vmin = 0.0 # caxis minimum\n",
    "vmax = 2 # caxis maximum\n",
    "axIn,data,bins = dss.plotCutQE(Q1,Q2,EnergyBins=energy,width=width,minPixel=minPixel,vmin=vmin,vmax=vmax,colorbar=False,cmap='turbo')\n",
    "axIn.set_ylabel(r'$\\mathrm{\\Delta}\\mathit{E}$ (meV)', fontsize=34, color='w')\n",
    "axIn.set_xlabel(\"\")\n",
    "axIn.tick_params(axis='both', which='major', labelsize=34, color='w')\n",
    "axIn.set_ylim(0.26, 3.85)\n",
    "axIn.set_xticks([0, 1], (r\"$\\Gamma$\", r\"$\\left( \\frac{1}{8} \\frac{1}{8} 1 \\right)$\"), color='w');\n",
    "axIn.tick_params(axis='y', colors='w');\n",
    "axIn.get_figure().set_size_inches(4,5)\n",
    "#plt.axvline(x=-0.02, color='w', linewidth=6.0, linestyle='--')\n",
    "\n",
    "# Read in the simulated modes from SpinW. See https://mjolnir.readthedocs.io/en/latest/notebooks/OverviewofCAMEAData.html#The-MnF2-dispersion-theory, https://mjolnir.readthedocs.io/en/latest/notebooks/Fittingofsequential1Dcuts.html.\n",
    "hklSplit = np.loadtxt('U:/Data/MATLAB/MnF2/hklFit10T.txt')\n",
    "omegaSplit = np.loadtxt('U:/Data/MATLAB/MnF2/omegaFit10T.txt')\n",
    "hklSplit = np.transpose(hklSplit)\n",
    "hklSplit = hklSplit[0:223];\n",
    "omegaSplit = omegaSplit[:, 0:223];\n",
    "hklSplit1 = hklSplit[hklSplit[:,0]<Q2[0]]; # hkl's going up to Q2\n",
    "omegaSplit1 = omegaSplit[:, hklSplit[:,0]<Q2[0]]\n",
    "XPosition = np.concatenate([axIn.calculatePositionInv(hkl.reshape(1,-1)) for hkl in hklSplit1])\n",
    "axIn.plot(XPosition, omegaSplit1[0], color='k', linewidth=2, linestyle='--')\n",
    "axIn.plot(XPosition, omegaSplit1[1], color='k', linewidth=2, linestyle='--')\n",
    "plt.savefig('U:/Data/Figures/MnF2/Manuscript/Fig4/HHLDataInset.png', transparent=True, bbox_inches='tight')"
   ]
  },
  {
   "cell_type": "markdown",
   "id": "f3982801-b2f1-4d88-8743-39dc52ae89ae",
   "metadata": {},
   "source": [
    "## Cut through Gamma"
   ]
  },
  {
   "cell_type": "code",
   "execution_count": null,
   "id": "88901d3e-452b-4a99-854f-123fa5a59edf",
   "metadata": {},
   "outputs": [],
   "source": [
    "dss=ds10T\n",
    "Q1 = np.array([0,0,1])  #Q-position\n",
    "\n",
    "width = 0.05 #integration width perpendicular to Q in 1/A\n",
    "minPixel = 0.04 #step along Energy\n",
    "EMin=0.5 #Minimum of energy\n",
    "EMax=2.5 #Maximum of enerrgy\n",
    "rlu = True\n",
    "constantBins = True\n",
    "scanvar='Energy'\n",
    "fig, ax2 = plt.subplots(1, 1, figsize=(10,5))\n",
    "data, bin = dss.cut1DE(E1=EMin,E2=EMax,q=Q1,width=width,minPixel=minPixel,rlu=rlu,constantBins=constantBins,ufit=False)\n",
    "ax2.errorbar(data['Energy'],data['Int'],data['Int_err'], marker='o',linestyle='',markersize='10',capsize=3,elinewidth=3)\n",
    "\n",
    "# Fit to two Gaussians and plot\n",
    "#gmodel = Model(gaussian2)\n",
    "#result = gmodel.fit(data['Int'], x=data['Energy'], bg=0.001, amp1=1, cen1=1.2, wid1=0.1, amp2=1, cen2=1.7, wid2=0.1)\n",
    "#ax2.plot(np.linspace(np.array(data['Energy'])[0],np.array(data['Energy'])[-1],1000),\n",
    "#gaussian2(np.linspace(np.array(data['Energy'])[0],np.array(data['Energy'])[-1],1000),result.params['bg'],\n",
    "#result.params['amp1'],result.params['cen1'],result.params['wid1'],\n",
    "#result.params['amp2'],result.params['cen2'],result.params['wid2']), linestyle='--', linewidth = 3, color='k')\n",
    "ax2.set_title('')\n",
    "ax2.set_xlabel(r'$\\mathrm{\\Delta}\\mathit{E}$ (meV)', fontsize=18)\n",
    "ax2.set_ylabel(r'$\\it{I}$ (arb. units)', fontsize=18)\n",
    "ax2.tick_params(axis='both', which='major', labelsize=18)\n",
    "ax2.get_figure().set_size_inches(10,6)\n",
    "\n",
    "# Load in and overplot the simulated spectrum\n",
    "ESim = np.loadtxt('U:/Data/MATLAB/MnF2/ESim10T.txt')\n",
    "intSim = np.loadtxt('U:/Data/MATLAB/MnF2/intSim10T.txt')\n",
    "ax2.plot(ESim, 4.3*intSim, linestyle='-', linewidth = 2, color='k')\n",
    "ax2.set_xlim(0.5, 2.5);\n",
    "plt.savefig('U:/Data/Figures/MnF2/Manuscript/Fig4/HHLCut.png')"
   ]
  }
 ],
 "metadata": {
  "kernelspec": {
   "display_name": "Python 3 (ipykernel)",
   "language": "python",
   "name": "python3"
  },
  "language_info": {
   "codemirror_mode": {
    "name": "ipython",
    "version": 3
   },
   "file_extension": ".py",
   "mimetype": "text/x-python",
   "name": "python",
   "nbconvert_exporter": "python",
   "pygments_lexer": "ipython3",
   "version": "3.12.7"
  }
 },
 "nbformat": 4,
 "nbformat_minor": 5
}
