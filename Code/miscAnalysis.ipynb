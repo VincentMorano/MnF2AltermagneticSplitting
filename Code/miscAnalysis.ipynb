{
 "cells": [
  {
   "cell_type": "markdown",
   "metadata": {
    "jp-MarkdownHeadingCollapsed": true
   },
   "source": [
    "# Read in packages, define functions"
   ]
  },
  {
   "cell_type": "markdown",
   "metadata": {},
   "source": [
    "Reads in all packages you may need"
   ]
  },
  {
   "cell_type": "code",
   "execution_count": 1,
   "metadata": {},
   "outputs": [],
   "source": [
    "import matplotlib.pyplot as plt\n",
    "try:\n",
    "    import IPython\n",
    "    shell = IPython.get_ipython()\n",
    "    shell.enable_matplotlib(gui='qt')\n",
    "except:\n",
    "    pass\n",
    "\n",
    "\n",
    "from MJOLNIR import _tools\n",
    "from MJOLNIR.Data import DataSet\n",
    "from lmfit import Model, Parameter, report_fit\n",
    "from MJOLNIR.Data import Mask\n",
    "from MJOLNIR._tools import fileListGenerator\n",
    "\n",
    "import numpy as np\n",
    "from os import path\n",
    "from scipy.ndimage import gaussian_filter\n",
    "from scipy import interpolate\n",
    "import pandas as pd\n",
    "import copy"
   ]
  },
  {
   "cell_type": "code",
   "execution_count": 2,
   "metadata": {},
   "outputs": [],
   "source": [
    "def generateBG(foregroundDataSet,backgroundDataSet, foregroundMask = None,dQ=0.02,dE=0.1,plotPowderAverage=False,verbose=True):\n",
    "    \"\"\"Generate a background dataset using the backgroundDataSet to perform powder averaged background interpolation\n",
    "    in the shape of the foregroundDataSet.\n",
    "    \n",
    "    Args:\n",
    "    \n",
    "        - foregroundDataSet (DataSet): Foreground data set to be replicated by the bg\n",
    "        \n",
    "        - backgroundDataSet (DataSet): Masked data set to be used for background masking out intensities. \n",
    "        \n",
    "    Kwargs: \n",
    "    \n",
    "        - foregroundMask (Mask): Mask to apply to powder-averaged background dataset. If none use mask from foregroundDataSet (default None)\n",
    "    \n",
    "        - dQ (float): Bin size along Qlength (default 0.02 1/AA)\n",
    "        \n",
    "        - dE (float): Bin size in energy (default 0.1 meV)\n",
    "        \n",
    "        - plotPowderAverage (bool): Flag to control plotting of powder average, if true ax is also returned (default False)\n",
    "        \n",
    "        - verbose (bool): If true, print the averaging process to the command line (default True)\n",
    "        \n",
    "    \n",
    "    \"\"\"\n",
    "    # Reset the mask of ds to be nothing\n",
    "    bgmask = copy.deepcopy(backgroundDataSet.mask)\n",
    "    backgroundDataSet.mask = [np.zeros_like(df.I,dtype=bool) for df in backgroundDataSet]\n",
    "    \n",
    "    # Find the maximal positions before the mask is applied\n",
    "    qLength = np.array([np.max(np.linalg.norm([df.qx,df.qy],axis=0)) for df in backgroundDataSet])\n",
    "    E = [[np.min(e),np.max(e)] for e in ds.energy.data]\n",
    "    QMax = np.max(qLength) # QMin is always set to 0\n",
    "    EMin = np.nanmin(E)\n",
    "    EMax = np.nanmax(E)\n",
    "    if verbose:\n",
    "        print('Bin limites are\\n','Q:',0.0,QMax,'\\nE:',EMin,EMax)\n",
    "        print('Copying bg dataset')\n",
    "    \n",
    "    backgroundDataSet.mask = bgmask\n",
    "    \n",
    "    # Copy the foreground data to bg data set\n",
    "    newBackgroundDataSet = copy.deepcopy(foregroundDataSet)\n",
    "\n",
    "    \n",
    "    if verbose:\n",
    "        print('Performing powder average')\n",
    "    # Prepare for powder average of background data\n",
    "    I = backgroundDataSet.I.extractData()\n",
    "    Monitor = backgroundDataSet.Monitor.extractData()\n",
    "    Norm = backgroundDataSet.Norm.extractData()\n",
    "    \n",
    "    # Position in the powder average (QLength, Energy)\n",
    "    positions2D = np.array([np.linalg.norm([backgroundDataSet.qx.extractData(),\n",
    "                                            backgroundDataSet.qy.extractData()],axis=0),\n",
    "                            backgroundDataSet.energy.extractData()])\n",
    "\n",
    "    # Generate the bins with suitable extensions\n",
    "    QBins = np.arange(0,QMax+dQ*1.1,dQ)\n",
    "    EnergyBins = np.arange(EMin-dE*1.1,EMax+dE*1.1,dE)\n",
    "\n",
    "    \n",
    "    # Perform 2D histogram\n",
    "    normcounts,*powderBins = np.histogram2d(*positions2D,bins=np.array([QBins,EnergyBins],dtype=object),weights=np.ones((positions2D.shape[1])).flatten())\n",
    "    intensity = np.histogram2d(*positions2D,bins=np.array([QBins,EnergyBins],dtype=object),weights=I.flatten())[0]\n",
    "    MonitorCount=  np.histogram2d(*positions2D,bins=np.array([QBins,EnergyBins],dtype=object),weights=Monitor.flatten())[0]\n",
    "    Normalization= np.histogram2d(*positions2D,bins=np.array([QBins,EnergyBins],dtype=object),weights=Norm.flatten())[0]\n",
    "\n",
    "    # Calcualte the intensities\n",
    "    Int = np.divide(intensity*normcounts,MonitorCount*Normalization)\n",
    "    #eMean = 0.5*(EnergyBins[:-1]+EnergyBins[1:])\n",
    "    #qMean = 0.5*(QBins[:-1]+QBins[1:])\n",
    "\n",
    "    \n",
    "    if plotPowderAverage: # Plot the powder average\n",
    "        powderFig,powderAx = plt.subplots()\n",
    "        X,Y = np.meshgrid(QBins,EnergyBins)\n",
    "        powderAx.pcolormesh(X,Y,Int.T)\n",
    "    \n",
    "    if verbose:\n",
    "        print('Finding intensities for background dataset')\n",
    "    # Find intensites for individual points in the scan across data files\n",
    "    for count,df in enumerate(newBackgroundDataSet):\n",
    "        dfPosition = np.array([np.linalg.norm([df.qx,df.qy],axis=0),df.energy])\n",
    "        # Calculate the bin index\n",
    "        qIndex = np.floor((dfPosition[0]-QBins[0])/dQ).astype(int)#np.asarray([np.argmin(np.abs(qpos-qMean)) for qpos in dfPosition[0].flatten()]).reshape(*dfPosition[0].shape)\n",
    "        eIndex = np.floor((dfPosition[1]-EnergyBins[0])/dE).astype(int)#np.asarray([np.argmin(np.abs(epos-eMean)) for epos in dfPosition[1].flatten()]).reshape(*dfPosition[1].shape)\n",
    "\n",
    "        # Clamp the indicies (Might not be needed....)\n",
    "        qIndex[qIndex<0]=0\n",
    "        qIndex[qIndex>Int.shape[0]-1]=Int.shape[0]-1\n",
    "        eIndex[eIndex<0]=0\n",
    "        eIndex[eIndex>Int.shape[1]-1]=Int.shape[1]-1\n",
    "        \n",
    "        # Find intensity by rescaling with monitor and normalization\n",
    "        df.I = Int[[qIndex],[eIndex]][0]*df.Monitor*df.Norm\n",
    "        if verbose:\n",
    "            print('df',count+1,'of',len(backgroundDataSet))\n",
    "    # update the background data set\n",
    "    newBackgroundDataSet._getData()\n",
    "    # Apply the foreground mask to the background dataset\n",
    "    \n",
    "    if foregroundMask is None:\n",
    "        newBackgroundDataSet.mask = foregroundDataSet.mask\n",
    "    else:\n",
    "        newBackgroundDataSet.mask = foregroundMask(newBackgroundDataSet)\n",
    "    \n",
    "    if plotPowderAverage:\n",
    "        return newBackgroundDataSet,powderAx\n",
    "    return newBackgroundDataSet\n",
    "    "
   ]
  },
  {
   "cell_type": "markdown",
   "metadata": {},
   "source": [
    "Reads in fitting functions"
   ]
  },
  {
   "cell_type": "code",
   "execution_count": 3,
   "metadata": {},
   "outputs": [],
   "source": [
    "def gaussian(x,bg, amp1, cen1, wid1):\n",
    "    return bg+amp1/(np.sqrt(2*np.pi)*wid1) * np.exp(-(x-cen1)**2 /(2*wid1**2))\n",
    "def gaussianslope(x,bg,slope, amp1, cen1, wid1):\n",
    "    return bg+slope*(x-cen1)+amp1/(np.sqrt(2*np.pi)*wid1) * np.exp(-(x-cen1)**2 /(2*wid1**2))\n",
    "def gaussianslopefixedzero(x,bg,slope, amp1, wid1):\n",
    "    cen1=0\n",
    "    return bg+slope*(x-cen1)+amp1/(np.sqrt(2*np.pi)*wid1) * np.exp(-(x-cen1)**2 /(2*wid1**2))\n",
    "def gaussianexp(x,bg,alpha, amp1, cen1, wid1):\n",
    "    return bg+np.exp(-alpha*(x-cen1))+amp1/(np.sqrt(2*np.pi)*wid1) * np.exp(-(x-cen1)**2 /(2*wid1**2))\n",
    "def gaussian2(x,bg, amp1, cen1, wid1, amp2, cen2, wid2):\n",
    "    return bg+amp1/(np.sqrt(2*np.pi)*wid1) * np.exp(-(x-cen1)**2 /(2*wid1**2))+amp2/(np.sqrt(2*np.pi)*wid2) * np.exp(-(x-cen2)**2 /(2*wid2**2))\n",
    "def gaussian2slope(x,bg,slope, amp1, cen1, wid1, amp2, cen2, wid2):\n",
    "    return bg+slope*(x-cen1)+amp1/(np.sqrt(2*np.pi)*wid1) * np.exp(-(x-cen1)**2 /(2*wid1**2))+amp2/(np.sqrt(2*np.pi)*wid2) * np.exp(-(x-cen2)**2 /(2*wid2**2))\n",
    "def gaussian3(x,bg, amp1, cen1, wid1, amp2, cen2, wid2, amp3, cen3, wid3):\n",
    "    return bg+amp1/(np.sqrt(2*np.pi)*wid1) * np.exp(-(x-cen1)**2 /(2*wid1**2))+amp2/(np.sqrt(2*np.pi)*wid2) * np.exp(-(x-cen2)**2 /(2*wid2**2))+amp3/(np.sqrt(2*np.pi)*wid3) * np.exp(-(x-cen3)**2 /(2*wid3**2))\n",
    "def gaussian4(x,bg, amp1, cen1, wid1, amp2, cen2, wid2, amp3, cen3, wid3, amp4, cen4, wid4):\n",
    "    return bg+amp1/(np.sqrt(2*np.pi)*wid1) * np.exp(-(x-cen1)**2 /(2*wid1**2))+amp2/(np.sqrt(2*np.pi)*wid2) * np.exp(-(x-cen2)**2 /(2*wid2**2))+amp3/(np.sqrt(2*np.pi)*wid3) * np.exp(-(x-cen3)**2 /(2*wid3**2))+amp4/(np.sqrt(2*np.pi)*wid4) * np.exp(-(x-cen4)**2 /(2*wid4**2))"
   ]
  },
  {
   "cell_type": "code",
   "execution_count": 4,
   "metadata": {},
   "outputs": [],
   "source": [
    "def cleaning(ds,treshold):\n",
    "    i=0\n",
    "    for dataset in range(len(ds)):\n",
    "        for a3 in range(0,len(ds.a3[dataset])-1):\n",
    "            if (np.sum(ds[dataset].I[a3,:,:],axis=(0,1))<treshold):\n",
    "                ds[dataset].I[a3,:,:]=0\n",
    "                ds[dataset].Monitor[a3,:,:]=0\n",
    "                i=i+1\n",
    "    return i"
   ]
  },
  {
   "cell_type": "markdown",
   "metadata": {
    "jp-MarkdownHeadingCollapsed": true
   },
   "source": [
    "# Data"
   ]
  },
  {
   "cell_type": "markdown",
   "metadata": {},
   "source": [
    "Example how to load and convert files\n",
    "\n",
    "(choose binning 1-8)\n",
    "\n",
    "Use binning 8 for high resolution"
   ]
  },
  {
   "cell_type": "markdown",
   "metadata": {},
   "source": [
    "Load in dataset if you want to rotate by angle alpha"
   ]
  },
  {
   "cell_type": "markdown",
   "metadata": {
    "jp-MarkdownHeadingCollapsed": true
   },
   "source": [
    "## H0L"
   ]
  },
  {
   "cell_type": "code",
   "execution_count": 5,
   "metadata": {},
   "outputs": [
    {
     "name": "stdout",
     "output_type": "stream",
     "text": [
      "0\n"
     ]
    }
   ],
   "source": [
    "files = _tools.fileListGenerator(\"1371-1388\",r\"U:\\Data\\CAMEA\\MnF2\\hdfH0L\",2021)\n",
    "dsH0L = DataSet.DataSet(files)\n",
    "dsH0L.convertDataFile(binning = 8,saveFile=False) \n",
    "#check if problems are in some dataset and correct for it:\n",
    "treshold=50\n",
    "i=cleaning(dsH0L,treshold)\n",
    "print(i)\n",
    "\n",
    "# Symmetrize\n",
    "for i,df in enumerate(dsH0L):\n",
    "    H,K,L = df.h,df.k,df.l\n",
    "    df.qx,df.qy = df.sample.calculateHKLToQxQy(np.abs(H),np.abs(K),np.abs(L)) "
   ]
  },
  {
   "cell_type": "markdown",
   "metadata": {
    "jp-MarkdownHeadingCollapsed": true
   },
   "source": [
    "## 09.10.24"
   ]
  },
  {
   "cell_type": "markdown",
   "metadata": {},
   "source": [
    "1.5 K, 0 T, 180 degrees"
   ]
  },
  {
   "cell_type": "code",
   "execution_count": null,
   "metadata": {},
   "outputs": [],
   "source": [
    "files = _tools.fileListGenerator(\"2588-2608\",r\"U:\\Data\\CAMEA\\MnF2\\hdf\",2024)\n",
    "ds = DataSet.DataSet(files)\n",
    "ds.convertDataFile(binning = 8,saveFile=False) \n",
    "#check if problems are in some dataset and correct for it:\n",
    "treshold=50\n",
    "i=cleaning(ds,treshold)\n",
    "print(i)"
   ]
  },
  {
   "cell_type": "markdown",
   "metadata": {
    "jp-MarkdownHeadingCollapsed": true
   },
   "source": [
    "## 10.10.24: Improving resolution"
   ]
  },
  {
   "cell_type": "markdown",
   "metadata": {},
   "source": [
    "Original Setting"
   ]
  },
  {
   "cell_type": "code",
   "execution_count": null,
   "metadata": {},
   "outputs": [],
   "source": [
    "files = _tools.fileListGenerator(\"2609-2612\",r\"U:\\Data\\CAMEA\\MnF2\\hdf\",2024)\n",
    "ds1 = DataSet.DataSet(files)\n",
    "ds1.convertDataFile(binning = 8,saveFile=False) \n",
    "#check if problems are in some dataset and correct for it:\n",
    "treshold=50\n",
    "i=cleaning(ds1,treshold)\n",
    "print(i)"
   ]
  },
  {
   "cell_type": "markdown",
   "metadata": {},
   "source": [
    "Measurement"
   ]
  },
  {
   "cell_type": "code",
   "execution_count": null,
   "metadata": {},
   "outputs": [],
   "source": [
    "files = _tools.fileListGenerator(\"2613-2616\",r\"U:\\Data\\CAMEA\\MnF2\\hdf\",2024)\n",
    "ds2 = DataSet.DataSet(files)\n",
    "ds2.convertDataFile(binning = 8,saveFile=False) \n",
    "\n",
    "# Mask tube 23 which is displaced in the older normalization\n",
    "mask=[]\n",
    "mask.append(Mask.indexMask(23,24,axis=1))\n",
    "ds2.mask = [np.logical_or(m1,m2) for m1,m2 in zip(ds2.mask,np.sum(mask)(ds2))]\n",
    "\n",
    "#check if problems are in some dataset and correct for it:\n",
    "treshold=50\n",
    "i=cleaning(ds2,treshold)\n",
    "print(i)"
   ]
  },
  {
   "cell_type": "markdown",
   "metadata": {},
   "source": [
    "Close sample slits (originally msb 21, mst 11)"
   ]
  },
  {
   "cell_type": "markdown",
   "metadata": {},
   "source": [
    "msb 18"
   ]
  },
  {
   "cell_type": "code",
   "execution_count": null,
   "metadata": {},
   "outputs": [],
   "source": [
    "files = _tools.fileListGenerator(\"2617-2620\",r\"U:\\Data\\CAMEA\\MnF2\\hdf\",2024)\n",
    "ds3 = DataSet.DataSet(files)\n",
    "ds3.convertDataFile(binning = 8,saveFile=False) \n",
    "#check if problems are in some dataset and correct for it:\n",
    "treshold=50\n",
    "i=cleaning(ds3,treshold)\n",
    "print(i)"
   ]
  },
  {
   "cell_type": "markdown",
   "metadata": {},
   "source": [
    "msb 15"
   ]
  },
  {
   "cell_type": "code",
   "execution_count": null,
   "metadata": {},
   "outputs": [],
   "source": [
    "files = _tools.fileListGenerator(\"2621-2624\",r\"U:\\Data\\CAMEA\\MnF2\\hdf\",2024)\n",
    "ds4 = DataSet.DataSet(files)\n",
    "ds4.convertDataFile(binning = 8,saveFile=False) \n",
    "#check if problems are in some dataset and correct for it:\n",
    "treshold=50\n",
    "i=cleaning(ds4,treshold)\n",
    "print(i)"
   ]
  },
  {
   "cell_type": "markdown",
   "metadata": {},
   "source": [
    "msb 12"
   ]
  },
  {
   "cell_type": "code",
   "execution_count": null,
   "metadata": {},
   "outputs": [],
   "source": [
    "files = _tools.fileListGenerator(\"2625-2628\",r\"U:\\Data\\CAMEA\\MnF2\\hdf\",2024)\n",
    "ds5 = DataSet.DataSet(files)\n",
    "ds5.convertDataFile(binning = 8,saveFile=False) \n",
    "#check if problems are in some dataset and correct for it:\n",
    "treshold=50\n",
    "i=cleaning(ds5,treshold)\n",
    "print(i)"
   ]
  },
  {
   "cell_type": "markdown",
   "metadata": {},
   "source": [
    "msb 10"
   ]
  },
  {
   "cell_type": "code",
   "execution_count": null,
   "metadata": {},
   "outputs": [],
   "source": [
    "files = _tools.fileListGenerator(\"2629-2632\",r\"U:\\Data\\CAMEA\\MnF2\\hdf\",2024)\n",
    "ds6 = DataSet.DataSet(files)\n",
    "ds6.convertDataFile(binning = 8,saveFile=False) \n",
    "#check if problems are in some dataset and correct for it:\n",
    "treshold=50\n",
    "i=cleaning(ds6,treshold)\n",
    "print(i)"
   ]
  },
  {
   "cell_type": "markdown",
   "metadata": {
    "jp-MarkdownHeadingCollapsed": true
   },
   "source": [
    "## 10.10.24"
   ]
  },
  {
   "cell_type": "markdown",
   "metadata": {},
   "source": [
    "1.5 K, 0 T, High E-resolution scan"
   ]
  },
  {
   "cell_type": "code",
   "execution_count": null,
   "metadata": {},
   "outputs": [],
   "source": [
    "files = _tools.fileListGenerator(\"2644-2659\",r\"U:\\Data\\CAMEA\\MnF2\\hdf\",2024)\n",
    "ds1 = DataSet.DataSet(files)\n",
    "ds1.convertDataFile(binning = 8,saveFile=False) \n",
    "\n",
    "# Mask tube 23 which is displaced in the older normalization\n",
    "mask=[]\n",
    "mask.append(Mask.indexMask(23,24,axis=1))\n",
    "ds1.mask = [np.logical_or(m1,m2) for m1,m2 in zip(ds1.mask,np.sum(mask)(ds1))]\n",
    "\n",
    "#check if problems are in some dataset and correct for it:\n",
    "treshold=50\n",
    "i=cleaning(ds1,treshold)\n",
    "print(i)"
   ]
  },
  {
   "cell_type": "markdown",
   "metadata": {
    "jp-MarkdownHeadingCollapsed": true
   },
   "source": [
    "## 11.10.24"
   ]
  },
  {
   "cell_type": "markdown",
   "metadata": {},
   "source": [
    "1.5 K, 10 T, 180 degrees"
   ]
  },
  {
   "cell_type": "code",
   "execution_count": null,
   "metadata": {},
   "outputs": [],
   "source": [
    "files = _tools.fileListGenerator(\"2671-2694\",r\"U:\\Data\\CAMEA\\MnF2\\hdf\",2024)\n",
    "ds = DataSet.DataSet(files)\n",
    "ds.convertDataFile(binning = 8,saveFile=False) \n",
    "#check if problems are in some dataset and correct for it:\n",
    "treshold=50\n",
    "i=cleaning(ds,treshold)\n",
    "print(i)"
   ]
  },
  {
   "cell_type": "markdown",
   "metadata": {},
   "source": [
    "1.5 K, 10 T, High E-resolution scan"
   ]
  },
  {
   "cell_type": "code",
   "execution_count": null,
   "metadata": {},
   "outputs": [],
   "source": [
    "files = _tools.fileListGenerator(\"2695-2710\",r\"U:\\Data\\CAMEA\\MnF2\\hdf\",2024)\n",
    "ds2 = DataSet.DataSet(files)\n",
    "ds2.convertDataFile(binning = 8,saveFile=False) \n",
    "\n",
    "# Mask tube 23 which is displaced in the older normalization\n",
    "mask=[]\n",
    "mask.append(Mask.indexMask(23,24,axis=1))\n",
    "ds2.mask = [np.logical_or(m1,m2) for m1,m2 in zip(ds2.mask,np.sum(mask)(ds2))]\n",
    "\n",
    "#check if problems are in some dataset and correct for it:\n",
    "treshold=50\n",
    "i=cleaning(ds2,treshold)\n",
    "print(i)"
   ]
  },
  {
   "cell_type": "markdown",
   "metadata": {
    "jp-MarkdownHeadingCollapsed": true
   },
   "source": [
    "## 13.10.24"
   ]
  },
  {
   "cell_type": "markdown",
   "metadata": {},
   "source": [
    "1.5 K, 10 T, FC High E-resolution scan"
   ]
  },
  {
   "cell_type": "code",
   "execution_count": null,
   "metadata": {},
   "outputs": [],
   "source": [
    "files = _tools.fileListGenerator(\"2711-2718\",r\"U:\\Data\\CAMEA\\MnF2\\hdf\",2024)\n",
    "ds = DataSet.DataSet(files)\n",
    "ds.convertDataFile(binning = 8,saveFile=False) \n",
    "\n",
    "# Mask tube 23 which is displaced in the older normalization\n",
    "mask=[]\n",
    "mask.append(Mask.indexMask(23,24,axis=1))\n",
    "ds.mask = [np.logical_or(m1,m2) for m1,m2 in zip(ds.mask,np.sum(mask)(ds))]\n",
    "\n",
    "#check if problems are in some dataset and correct for it:\n",
    "treshold=50\n",
    "i=cleaning(ds,treshold)\n",
    "print(i)"
   ]
  },
  {
   "cell_type": "markdown",
   "metadata": {
    "jp-MarkdownHeadingCollapsed": true
   },
   "source": [
    "## 14.10.24"
   ]
  },
  {
   "cell_type": "markdown",
   "metadata": {},
   "source": [
    "120 degree, 1.5 K, 0 T, ZFC, (HK0)"
   ]
  },
  {
   "cell_type": "code",
   "execution_count": null,
   "metadata": {},
   "outputs": [],
   "source": [
    "files = _tools.fileListGenerator(\"2745-2767\",r\"U:\\Data\\CAMEA\\MnF2\\hdf\",2024)\n",
    "ds = DataSet.DataSet(files)\n",
    "ds.convertDataFile(binning = 8,saveFile=False) \n",
    "#check if problems are in some dataset and correct for it:\n",
    "treshold=50\n",
    "i=cleaning(ds,treshold)\n",
    "print(i)"
   ]
  },
  {
   "cell_type": "markdown",
   "metadata": {
    "jp-MarkdownHeadingCollapsed": true
   },
   "source": [
    "## 15.10.24"
   ]
  },
  {
   "cell_type": "code",
   "execution_count": null,
   "metadata": {},
   "outputs": [],
   "source": [
    "files = _tools.fileListGenerator(\"2783-2799\",r\"U:\\Data\\CAMEA\\MnF2\\hdf\",2024)\n",
    "ds = DataSet.DataSet(files)\n",
    "ds.convertDataFile(binning = 8,saveFile=False) \n",
    "#check if problems are in some dataset and correct for it:\n",
    "treshold=50\n",
    "i=cleaning(ds,treshold)\n",
    "print(i)"
   ]
  },
  {
   "cell_type": "markdown",
   "metadata": {
    "jp-MarkdownHeadingCollapsed": true
   },
   "source": [
    "# Masking, Absorption correction, symmetrization"
   ]
  },
  {
   "cell_type": "markdown",
   "metadata": {},
   "source": [
    "In case some data should be masked out (needs modification for your sample) (adapt accordingly)"
   ]
  },
  {
   "cell_type": "code",
   "execution_count": null,
   "metadata": {},
   "outputs": [],
   "source": [
    "mask=[]\n",
    "ds=ds\n",
    "#Mask for Currate Axes spurions (Q points in [] and width given in dqx, dqy)\n",
    "mask.append(Mask.CurratAxeMask([[1,1,0],[-1,-1,0],[1,0,0]],dqx=0.07,dqy=0.07))\n",
    "\n",
    "ds.mask = [np.logical_or(m1,m2) for m1,m2 in zip(ds.mask,np.sum(mask)(ds))]"
   ]
  },
  {
   "cell_type": "markdown",
   "metadata": {},
   "source": [
    "Absorption correction"
   ]
  },
  {
   "cell_type": "code",
   "execution_count": null,
   "metadata": {},
   "outputs": [],
   "source": [
    "##Files the absorption correction is based on\n",
    "files = _tools.fileListGenerator(\"3059-3060,3072-3073,3084-3085\",r\"/Users/danielmazzone/Documents/CAMEA/2023/experiments/20222589/data\",2023)\n",
    "absorptionfile = DataSet.DataSet(files)\n",
    "absorptionfile.convertDataFile(binning = 8,saveFile=False) \n",
    "\n",
    "##a3 range of correction\n",
    "a3start=74\n",
    "a3end=115\n",
    "# found\"background\" of the region\n",
    "meanI = 13200*3\n",
    "\n",
    "## Extract A3 positions from first data file\n",
    "a3 = absorptionfile[0].A3\n",
    " \n",
    "rescale = np.ones_like(a3)\n",
    " \n",
    "# Assuming that between a3 = a3start and a3 = a3end rescaling is to be performed\n",
    "scaling = np.logical_and(a3>a3start,a3<a3end)\n",
    " \n",
    "# Sum the elastic line in relevant tubes and for elastic energies\n",
    "y = np.array([df.I[:,a3start:a3end,-8:].sum(axis=(1,2)) for df in absorptionfile])\n",
    " \n",
    "# Add the intensities togehter, flipping second datafile due to the scan direction\n",
    "y  = y[0] + y[1][::-1]+y[2] + y[3][::-1]+y[4] + y[5][::-1]\n",
    " \n",
    "# Calculate the rescaling/a3 point\n",
    "rescale[scaling] = (meanI/y)[scaling]\n",
    " \n",
    "# Generate an interpolation function padded with 1 outside range\n",
    "calcRescale = interpolate.interp1d(a3,rescale,fill_value=1.0,bounds_error=False)\n",
    "if True: # make the plot of the rescaling\n",
    "    fig,ax = plt.subplots()\n",
    "\n",
    "    for df in absorptionfile[:6]:\n",
    "        a3 = df.A3\n",
    "\n",
    "        rescale = np.ones_like(a3)\n",
    "        scaling = np.logical_and(a3>a3start,a3<a3end)\n",
    "        rescale = calcRescale(df.A3)\n",
    "\n",
    "        IRadial = df.I[:,a3start:a3end,-8:].sum(axis=(1,2))\n",
    "        ax.scatter(a3,IRadial,label='Elastic Line',c='gray')\n",
    "        ax.scatter(a3,IRadial*rescale,label='Rescaled '+df.name)\n",
    "\n",
    "    ax.set_xlabel('A3 [deg]')\n",
    "    ax.set_ylabel('Int [arb]')\n",
    "    \n",
    "if True: # perform rescaling\n",
    "    for df in ds:\n",
    "        rescale = calcRescale(df.A3[:df.I.shape[0]]).reshape(-1,1,1)\n",
    "        df.Monitor/=rescale.astype(float)"
   ]
  },
  {
   "cell_type": "markdown",
   "metadata": {},
   "source": [
    "Symmetrization (adapt accordingly)"
   ]
  },
  {
   "cell_type": "code",
   "execution_count": null,
   "metadata": {},
   "outputs": [],
   "source": [
    "for i,df in enumerate(ds):\n",
    "    H,K,L = df.h,df.k,df.l\n",
    "    df.qx,df.qy = df.sample.calculateHKLToQxQy(np.abs(H),np.abs(K),np.abs(L))"
   ]
  },
  {
   "cell_type": "markdown",
   "metadata": {
    "jp-MarkdownHeadingCollapsed": true
   },
   "source": [
    "# Powder average bg subtraction (adapt accordingly)"
   ]
  },
  {
   "cell_type": "code",
   "execution_count": null,
   "metadata": {},
   "outputs": [],
   "source": [
    "bgdata = _tools.fileListGenerator(\"1475-1512\",r\"/Users/danielmazzone/Documents/CAMEA/2023/experiments/20222570/data\",2023)\n",
    "#bgdata = _tools.fileListGenerator(\"1475-1478,1491-1498,1503-1506\",r\"/Users/danielmazzone/Documents/CAMEA/2023/experiments/20222570/data\",2023)\n",
    "bgdata = DataSet.DataSet(bgdata)\n",
    "\n",
    "bgdata.convertDataFile(binning = 8,saveFile=False) \n",
    "#check if problems are in some dataset and correct for it:\n",
    "treshold=50\n",
    "i=cleaning(bgdata,treshold)\n",
    "print(i)"
   ]
  },
  {
   "cell_type": "code",
   "execution_count": null,
   "metadata": {
    "jupyter": {
     "source_hidden": true
    }
   },
   "outputs": [],
   "source": [
    "BGmask=[]\n",
    "bgdata=bgdata\n",
    "#Mask for Currate Axes spurions (Q points in [] and width given in dqx, dqy)\n",
    "mask.append(Mask.CurratAxeMask([[1,1,0],[1,-1,0],[-1,1,0],[-1,-1,0]],dqx=0.1,dqy=0.1))\n",
    "mask.append(Mask.CurratAxeMask([[1,0,0],[0,1,0],[-1,0,0],[0,-1,0]],dqx=0.07,dqy=0.07))\n",
    "\n",
    "#Fwhm of 4.5 meV dataset is 0.2 meV\n",
    "#Will cut away everything above *FWHM=0.3 for 4.5 meV dataset\n",
    "BGmask.append(Mask.lineMask(4.2,4.8,coordinates='Ei',maskInside=True)*Mask.lineMask(0.3,10,coordinates='energy',maskInside=False))\n",
    "\n",
    "#Maskin gfluctuations\n",
    "BGmask.append(Mask.circleMask([1,1],[1.4,1],coordinates=['h','k'],maskInside=True))\n",
    "BGmask.append(Mask.circleMask([-1,1],[-1.4,1],coordinates=['h','k'],maskInside=True))\n",
    "BGmask.append(Mask.circleMask([1,-1],[1.4,-1],coordinates=['h','k'],maskInside=True))\n",
    "BGmask.append(Mask.circleMask([1,0],[1.4,0],coordinates=['h','k'],maskInside=True))\n",
    "BGmask.append(Mask.circleMask([0,1],[0.4,1],coordinates=['h','k'],maskInside=True))\n",
    "bgdata.mask = [np.logical_or(m1,m2) for m1,m2 in zip(bgdata.mask,np.sum(BGmask)(bgdata))]"
   ]
  },
  {
   "cell_type": "code",
   "execution_count": null,
   "metadata": {},
   "outputs": [],
   "source": [
    "bgDS,ax = generateBG(ds,bgdata,dQ=0.02,dE=0.03,plotPowderAverage=True,verbose=True)\n",
    "\n",
    "sub = ds-bgDS"
   ]
  },
  {
   "cell_type": "markdown",
   "metadata": {
    "jp-MarkdownHeadingCollapsed": true
   },
   "source": [
    "# Plotting Examples"
   ]
  },
  {
   "cell_type": "markdown",
   "metadata": {},
   "source": [
    "3D view of datase ds\n",
    "\n",
    "(binning along Qx, Qy, energy)\n",
    "\n",
    "Qx nd Qx = 0.02 are good if 1 degree steps in a3 are used, energy 0.1-0.2 is reasonable for overview\n",
    "\n",
    "min and max of c-axis"
   ]
  },
  {
   "cell_type": "code",
   "execution_count": null,
   "metadata": {},
   "outputs": [],
   "source": [
    "Viewer = dsHR.View3D(0.03,0.03,.1,grid=9,rlu=True)\n",
    "Viewer.caxis=(-0.0,3)\n",
    "plt.show()"
   ]
  },
  {
   "cell_type": "code",
   "execution_count": null,
   "metadata": {},
   "outputs": [],
   "source": [
    "Viewer.caxis=(0.0,0.1)"
   ]
  },
  {
   "cell_type": "markdown",
   "metadata": {},
   "source": [
    "Checks length of BZ\n",
    "\n",
    "This is used to estimated width and min pixels later"
   ]
  },
  {
   "cell_type": "code",
   "execution_count": null,
   "metadata": {},
   "outputs": [],
   "source": [
    "print('BZ length H in AA-1 = '+str(2*np.pi/ds[0].sample.a))\n",
    "print('BZ length K in AA-1 = '+str(2*np.pi/ds[0].sample.b))\n",
    "print('BZ length L in AA-1 = '+str(2*np.pi/ds[0].sample.c))"
   ]
  },
  {
   "cell_type": "markdown",
   "metadata": {},
   "source": [
    "Creates a powder average of the data"
   ]
  },
  {
   "cell_type": "code",
   "execution_count": null,
   "metadata": {},
   "outputs": [],
   "source": [
    "ds=ds\n",
    "EMin = 0  #Energy minimum\n",
    "EMax = 4 #Energy maximum\n",
    "dE = .1 #Energy steps\n",
    "QMin =0 #1/A\n",
    "QMax =2.5 #1/A\n",
    "dQ=.02 #Q steps\n",
    "\n",
    "vmin=0 #minimum of the colorscale\n",
    "vmax=0.05 #maximum of colorscale\n",
    "cmap=parula\n",
    "data=ds.plotCutPowder(EBins=np.arange(EMin,EMax,dE), QBins=np.arange(QMin,QMax, dQ),vmin=vmin,vmax=vmax)\n",
    "fig,axs3=plt.subplots(1,figsize=(5,5))\n",
    "axs3.errorbar(np.array(data[1]['Energy']),np.array(data[1]['Int']),np.array(data[1]['Int_err']), marker='o',color=[1,0.4,0],linestyle='')\n"
   ]
  },
  {
   "cell_type": "markdown",
   "metadata": {},
   "source": [
    "Example how to plot a Q-Plane over an energy window\n",
    "\n",
    "Plots unsmoothed and smoothed Q-Plane"
   ]
  },
  {
   "cell_type": "code",
   "execution_count": null,
   "metadata": {},
   "outputs": [],
   "source": [
    "EMin =6.0 #Energy minimum\n",
    "EMax =7.8 #Energy maximum\n",
    "#xBinTolerance = 2*np.pi/ds[0].sample.c*.03 #value in rlu. binning along x\n",
    "#yBinTolerance = np.sqrt(5)*2*np.pi/ds[0].sample.b*0.03 #value in rlu\n",
    "xBinTolerance = .03 #value in 1/A. binning along x\n",
    "yBinTolerance = .03 #value in 1/A. binning along y\n",
    "vmin=0.0 #minimum of the color scale\n",
    "vmax=0.8 #maximum of the color scale\n",
    "#cmap=parula #cmap for smoothed plane\n",
    "#cmap='jet'\n",
    "Data,ax = ds.plotQPlane(EMin=EMin, EMax=EMax,xBinTolerance=xBinTolerance,yBinTolerance=yBinTolerance,log=False,cmap = 'turbo')\n",
    "fig = ax.get_figure() # Extract figure from returned axis\n",
    "fig.colorbar(ax.pmeshs[0]) # Create colorbar from plot\n",
    "ax.set_clim(vmin,vmax)"
   ]
  },
  {
   "cell_type": "markdown",
   "metadata": {},
   "source": [
    "Example how to plot QE-Plane"
   ]
  },
  {
   "cell_type": "code",
   "execution_count": null,
   "metadata": {},
   "outputs": [],
   "source": [
    "dset=ds\n",
    "rlu = True\n",
    "#grid = -10\n",
    "grid = False\n",
    "self = dset\n",
    "dataFiles = None\n",
    "rlu = True\n",
    "Q1 = np.array([0.5,0.5,0.5]) #Q1 of cut\n",
    "Q2 = np.array([1,1,0.5])  #Q2 of cut\n",
    "#width = 2*np.pi/ds[0].sample.a/(2**(1/2))*.1 #integration width perpendicular to Q\n",
    "#minPixel = 2*np.pi/ds[0].sample.c*0.01 #step along Q\n",
    "EMin = 6.4 #Energy minimum\n",
    "EMax = 7.3 #Energy maximum\n",
    "dE = 0.1 #Energy steps\n",
    "energy = np.arange(EMin,EMax,dE)\n",
    "width = 0.025 #integration width perpendicular to Q in 1/A\n",
    "minPixel = 0.025 #step along Q in 1/A\n",
    "vmin=0 #caxis minimum\n",
    "vmax=0.7 #caxis maximum\n",
    "#cmap='viridis' #cmap for coloscale\n",
    "#cmap=parula\n",
    "#cmap='Reds'\n",
    "axSUB,data,bins = dset.plotCutQE(Q1,Q2,EnergyBins=energy,width=width,minPixel=minPixel,vmin=vmin,vmax=vmax,colorbar=True,cmap='turbo')\n",
    "#axSUB.set_title('title')\n",
    "#######################"
   ]
  },
  {
   "cell_type": "markdown",
   "metadata": {},
   "source": [
    "Subtract two QE slices"
   ]
  },
  {
   "cell_type": "code",
   "execution_count": null,
   "metadata": {},
   "outputs": [],
   "source": [
    "dset1=ds1\n",
    "dset2=ds2\n",
    "rlu = True\n",
    "#grid = -10\n",
    "grid = False\n",
    "self1 = dset1\n",
    "self2=dset2\n",
    "dataFiles = None\n",
    "rlu = True\n",
    "Q1 = np.array([0.5,0.5,0.5]) #Q1 of cut\n",
    "Q2 = np.array([1,1,0.5])  #Q2 of cut\n",
    "#width = 2*np.pi/ds[0].sample.a/(2**(1/2))*.1 #integration width perpendicular to Q\n",
    "#minPixel = 2*np.pi/ds[0].sample.c*0.01 #step along Q\n",
    "EMin = 6.4 #Energy minimum\n",
    "EMax = 7.3 #Energy maximum\n",
    "dE = 0.1 #Energy steps\n",
    "energy = np.arange(EMin,EMax,dE)\n",
    "width = 0.025 #integration width perpendicular to Q in 1/A\n",
    "minPixel = 0.025 #step along Q in 1/A\n",
    "vmin=0 #caxis minimum\n",
    "vmax=0.7 #caxis maximum\n",
    "#cmap='viridis' #cmap for coloscale\n",
    "#cmap=parula\n",
    "#cmap='Reds'\n",
    "axSUB1,data1,bins1 = dset1.plotCutQE(Q1,Q2,EnergyBins=energy,width=width,minPixel=minPixel,vmin=vmin,vmax=vmax,colorbar=True,cmap='turbo')\n",
    "axSUB2,data2,bins2 = dset2.plotCutQE(Q1,Q2,EnergyBins=energy,width=width,minPixel=minPixel,vmin=vmin,vmax=vmax,colorbar=True,cmap='turbo')\n",
    "dset1m2=data1-data2\n",
    "axSUB1m2,data1m2,bins1m2 = dset1m2.plotCutQE(Q1,Q2,EnergyBins=energy,width=width,minPixel=minPixel,vmin=vmin,vmax=vmax,colorbar=True,cmap='turbo')\n",
    "#axSUB.set_title('title')\n",
    "#######################"
   ]
  },
  {
   "cell_type": "code",
   "execution_count": null,
   "metadata": {},
   "outputs": [],
   "source": [
    "center=-1\n",
    "minPixelr_rlu = minPixel/2/np.pi*ds[0].sample.a\n",
    "for H, dat in data[np.logical_and(data['L']<=center+minPixelr_rlu/2,data['L']>center-minPixelr_rlu/2)].groupby('L'):\n",
    "    print(H)\n",
    "fig,axs2=plt.subplots(1,figsize=(5,5))\n",
    "axs2.errorbar(dat['Energy'],dat['Int'],dat['Int_err'], marker='o',color=[.8,0.6,0],linestyle='',label=r'Q='+str(center))\n",
    "#gmodel = Model(gaussian2)\n",
    "#result = gmodel.fit(dat['Int'], x=dat['Energy'], bg=0.001, amp1=1,cen1=2.4, wid1=0.1, amp2=1,cen2=2.75, wid2=0.1)\n",
    "#axs2.plot(np.linspace(np.array(dat['Energy'])[0],np.array(dat['Energy'])[-1],1000),\n",
    "#gaussian2(np.linspace(np.array(dat['Energy'])[0],np.array(dat['Energy'])[-1],1000),result.params['bg'],\n",
    "#result.params['amp1'],result.params['cen1'],result.params['wid1'],\n",
    "#result.params['amp2'],result.params['cen2'],result.params['wid2']),color=[1,0.4,0],linestyle='--')\n",
    "\n",
    "gmodel = Model(gaussianslope)\n",
    "result = gmodel.fit(dat['Int'], x=dat['Energy'], bg=0.001,slope=0, amp1=1,cen1=2.5, wid1=0.1)\n",
    "axs2.plot(np.linspace(np.array(dat['Energy'])[0],np.array(dat['Energy'])[-1],1000),\n",
    "gaussianslope(np.linspace(np.array(dat['Energy'])[0],np.array(dat['Energy'])[-1],1000),result.params['bg'],result.params['slope'],\n",
    "result.params['amp1'],result.params['cen1'],result.params['wid1']),color=[1,0.4,1],linestyle='--')\n",
    "\n",
    "\n",
    "\n",
    "axs2.set_ylabel('I (a.u.)')\n",
    "axs2.set_xlabel('E = (meV)')\n",
    "axs2.legend(frameon=False)\n",
    "print(result.params['cen1'])\n",
    "print(result.params['wid1'])\n",
    "\n",
    "print(result.params['cen2'])\n",
    "print(result.params['wid2'])"
   ]
  },
  {
   "cell_type": "markdown",
   "metadata": {},
   "source": [
    "Q-cuts"
   ]
  },
  {
   "cell_type": "code",
   "execution_count": null,
   "metadata": {},
   "outputs": [],
   "source": [
    "Q1 = np.array([-1,-1,1])  #Q-position\n",
    "Q2 = np.array([1,1,1])  #Q-position\n",
    "scanvar='H' #define scan dirrection H, K, L\n",
    "width = 2*np.pi/ds[0].sample.c*.05 #integration width perpendicular to Q in 1/A\n",
    "minPixel = 2*np.pi/(ds[0].sample.a/(2**(1/2)))*0.025 #step along Q in rlu\n",
    "#width= 2*np.pi/ds[0].sample.c*0.1 #integration width perpendicular to Q\n",
    "#minPixel = 2*np.pi/(ds[0].sample.a)*0.01 #step along Q\n",
    "EMin=-.2#Energy window\n",
    "EMax=.2 #Energy window\n",
    "rlu = True\n",
    "constantBins = True\n",
    "####Plots the cut####\n",
    "data, bin = ds.cut1D(Emin=EMin,Emax=EMax, q1=Q1, q2=Q2,width=width,minPixel=minPixel,rlu=True,constantBins=constantBins,ufit=False,extend=False)\n",
    "\n",
    "fig,axs2=plt.subplots(1,figsize=(5,5))\n",
    "axs2.errorbar(data[scanvar],data['Int'],data['Int_err'], marker='o',color=[1,0.4,0],linestyle='-',label=r'Q='+str(Q1))\n",
    "\n",
    "####Fits the cut with Model and start values and then plots it####\n",
    "gmodel = Model(gaussian2)\n",
    "result = gmodel.fit(I, x=K, bg=0.00, amp1=1, cen1=.5, wid1=.05, amp2=1, cen2=1.5, wid2=.05)\n",
    "axs2.plot(np.linspace(data[scanvar][1],data[scanvar][end-1],1000),\n",
    "gaussian2(np.linspace(data[scanvar][1],data[scanvar][end-1],1000),result.params['bg'],\n",
    "result.params['amp1'],result.params['cen1'],result.params['wid1'],     \n",
    "result.params['amp2'],result.params['cen2'],result.params['wid2']),color=[0,0.4,1],linestyle='--')\n",
    "\n",
    "#gmodel = Model(gaussianslope)\n",
    "#result = gmodel.fit(I, x=K, bg=0.00, slope=0, amp1=1, cen1=-0.4, wid1=.05)\n",
    "#axs2.plot(np.linspace(K[1],K[end-1],1000),\n",
    "#gaussianslope(np.linspace(K[1],K[end-1],1000),result.params['bg'],result.params['slope'],\n",
    "#result.params['amp1'],result.params['cen1'],result.params['wid1']),color=[0,0.4,1],linestyle='--')\n",
    "print(result.params['cen1'])\n",
    "print(result.params['cen2'])\n",
    "######Makes title and axes\n",
    "Eav=np.round(EMin+(EMax-EMin)/2,2)\n",
    "Edif=np.int(np.round(100*(EMax-EMin)/2,0))\n",
    "if scanvar!='Energy':\n",
    "    axs2.set_title(r\"$\\Delta$E = \"+  str(Eav) + \"(\" + str(Edif) + \") mev. Q$_1$ = \" + str(Q1) + ', Q$_2$ =' +str(Q2))\n",
    "    axs2.set_xlabel('q = '+str((Q1-Q2)/np.sqrt(np.sum((Q1-Q2)**2)))+' (r.l.u.)')\n",
    "if scanvar=='Energy':\n",
    "    axs2.set_title(\"q = \"+  str(Q1) + \"(\" + str((Q1-Q2)/2) + \") (r.l.u.)\")\n",
    "    axs2.set_xlabel('E = (meV)')\n",
    "#print(result.params['bg'])\n",
    "#print(result.params['amp1']/(np.sqrt(2*np.pi)*result.params['wid1']))\n",
    "#print((result.params['amp1']/(np.sqrt(2*np.pi)*result.params['wid1']))/result.params['bg']*100)"
   ]
  },
  {
   "cell_type": "markdown",
   "metadata": {
    "jp-MarkdownHeadingCollapsed": true
   },
   "source": [
    "### Q cut to check alignment"
   ]
  },
  {
   "cell_type": "code",
   "execution_count": 16,
   "metadata": {},
   "outputs": [
    {
     "name": "stdout",
     "output_type": "stream",
     "text": [
      "<Parameter 'cen1', value=0.9290050331906032 +/- 0.00148, bounds=[-inf:inf]>\n",
      "<Parameter 'cen2', value=1.0884137755796477 +/- 0.00147, bounds=[-inf:inf]>\n"
     ]
    }
   ],
   "source": [
    "ds = dsH0L\n",
    "Q1 = np.array([0.8,0,0])  #Q-position\n",
    "Q2 = np.array([1.2,0,0])  #Q-position\n",
    "scanvar='H' #define scan dirrection H, K, L\n",
    "width = 0.02 #integration width perpendicular to Q in 1/A\n",
    "minPixel = 0.02 #step along Q in 1/A\n",
    "EMin = 1.95 #Energy window\n",
    "EMax = 2.05 #Energy window\n",
    "rlu = True\n",
    "constantBins = True\n",
    "####Plots the cut####\n",
    "data, bin = ds.cut1D(Emin=EMin,Emax=EMax, q1=Q1, q2=Q2,width=width,minPixel=minPixel,rlu=True,constantBins=constantBins,ufit=False,extend=False)\n",
    "\n",
    "fig,axs2=plt.subplots(1,figsize=(5,5))\n",
    "axs2.errorbar(data[scanvar],data['Int'],data['Int_err'], marker='o',color=[1,0.4,0],linestyle='-',label=r'Q='+str(Q1))\n",
    "\n",
    "I = data['Int']\n",
    "H = data['H']\n",
    "####Fits the cut with Model and start values and then plots it####\n",
    "gmodel = Model(gaussian2)\n",
    "#gmodel = Model(gaussian)\n",
    "result = gmodel.fit(I, x=H, bg=0.0001, amp1=1, cen1=0.9, wid1=.05, amp2=1, cen2=1.1, wid2=.05)\n",
    "#result = gmodel.fit(I, x=H, bg=0.0001, amp1=1, cen1=1, wid1=.05)\n",
    "axs2.plot(np.linspace(data[scanvar][1],data[scanvar][len(data[scanvar])-1],1000), gaussian2(np.linspace(data[scanvar][1],data[scanvar][len(data[scanvar])-1],1000), result.params['bg'], result.params['amp1'], result.params['cen1'], result.params['wid1'], result.params['amp2'], result.params['cen2'], result.params['wid2']), color=[0,0.4,1], linestyle='--')\n",
    "#gmodel = Model(gaussian)\n",
    "#result = gmodel.fit(I, x=H, bg=0.0001, amp1=1, cen1=1, wid1=.05)\n",
    "#axs2.plot(np.linspace(data[scanvar][1],data[scanvar][len(data[scanvar])-1],1000), gaussian(np.linspace(data[scanvar][1],data[scanvar][len(data[scanvar])-1],1000), result.params['bg'], result.params['amp1'], result.params['cen1'], result.params['wid1']), color=[0,0.4,1], linestyle='--')\n",
    "axs2.set_xlabel('H [rlu]')\n",
    "axs2.set_ylabel('Intensity [Arb]')\n",
    "\n",
    "#gmodel = Model(gaussianslope)\n",
    "#result = gmodel.fit(I, x=K, bg=0.00, slope=0, amp1=1, cen1=-0.4, wid1=.05)\n",
    "#axs2.plot(np.linspace(K[1],K[end-1],1000),\n",
    "#gaussianslope(np.linspace(K[1],K[end-1],1000),result.params['bg'],result.params['slope'],\n",
    "#result.params['amp1'],result.params['cen1'],result.params['wid1']),color=[0,0.4,1],linestyle='--')\n",
    "print(result.params['cen1'])\n",
    "print(result.params['cen2'])"
   ]
  },
  {
   "cell_type": "markdown",
   "metadata": {},
   "source": [
    "General cutting path"
   ]
  },
  {
   "cell_type": "code",
   "execution_count": null,
   "metadata": {},
   "outputs": [],
   "source": [
    "grid = False\n",
    "dataFiles = None\n",
    "rlu = True\n",
    "dss=ds\n",
    "#Q1 = np.array([0.5,0.5,0]) #Q1 of cut\n",
    "#Q2 = np.array([0,0,1])  #Q2 of cut\n",
    "#Q3 = np.array([1,1,0]) #Q1 of cu  \n",
    "#Q4 = np.array([1,1,1]) #Q1 of cu \n",
    "#Q5 = np.array([0,0,1]) #Q1 of cu \n",
    "#Q1 = np.array([0,0,1]) #Q1 of cut\n",
    "#Q2 = np.array([1,1,1])  #Q2 of cut\n",
    "#Q3 = np.array([1,1,0.5]) #Q1 of cu  \n",
    "#Q4 = np.array([0.5,0.5,0.5]) #Q1 of cu \n",
    "#Q5 = np.array([1,1,0]) #Q1 of cu \n",
    "Q1 = np.array([0.5,0.5,0.5]) #Q1 of cut\n",
    "Q2 = np.array([1,1,0.5])  #Q2 of cut\n",
    "EMin = 6.6  #Energy minimum\n",
    "EMax = 7.2 #Energy maximum\n",
    "dE = 0.04 #Energy steps\n",
    "energy = np.arange(EMin,EMax,dE)\n",
    "width = 0.03 #integration width perpendicular to Q in rlu\n",
    "minPixel = 0.02 #step along Q in rlu\n",
    "#width = 2*np.pi/ds[0].sample.c*.5 #integration width perpendicular to Q in 1/A\n",
    "#minPixel = np.sqrt(2)*2*np.pi/ds[0].sample.a*0.01 #step along Q   in 1/A\n",
    "\n",
    "\n",
    "vmin=0.0   #caxis minimum\n",
    "vmax=1.0 #caxis maximum\n",
    "cmap='turbo'\n",
    "axFG,data,bins = dss.plotCutQELine(QPoints=np.array([Q1,Q2]),EnergyBins=energy,width=width,minPixel=minPixel,rlu=rlu,plotSeperator=True,seperatorWidth=1,seperatorColor='k',cmap=cmap)\n",
    "axFG.set_title('1.5 K, 0 T, ZFC')\n",
    "axFG.locator_params(axis='x', nbins=15)\n",
    "axFG.set_ylabel(r'$\\Delta$E [meV]',fontsize=16)\n",
    "axFG.tick_params(axis='both', which='major', labelsize=16)\n",
    "axFG.set_clim(vmin,vmax)"
   ]
  },
  {
   "cell_type": "markdown",
   "metadata": {},
   "source": [
    "Example how to plot along a general path"
   ]
  },
  {
   "cell_type": "markdown",
   "metadata": {},
   "source": [
    "1d-cu along energy (circular integration width)"
   ]
  },
  {
   "cell_type": "code",
   "execution_count": null,
   "metadata": {},
   "outputs": [],
   "source": [
    "dss=ds\n",
    "Q1 = np.array([1,1,0.5])  #Q-position\n",
    "\n",
    "width = 0.025 #integration width perpendicular to Q in 1/A\n",
    "minPixel = 0.05 #step along Energy\n",
    "EMin=6.4 #Minimum of energy\n",
    "EMax=7.4 #Maximum of enerrgy\n",
    "rlu = True\n",
    "constantBins = True\n",
    "scanvar='Energy'\n",
    "data, bin = dss.cut1DE(E1=EMin,E2=EMax, q=Q1,width=width,minPixel=minPixel,rlu=rlu,constantBins=constantBins,ufit=False)\n",
    "fig,axs3=plt.subplots(1,figsize=(5,5))\n",
    "axs3.errorbar(data['Energy'],data['Int'],data['Int_err'], marker='o',linestyle='')\n",
    "gmodel = Model(gaussian)\n",
    "result = gmodel.fit(data['Int'], x=data['Energy'], bg=0.001, amp1=1, cen1=6.8, wid1=0.1)\n",
    "axs3.plot(np.linspace(np.array(data['Energy'])[0],np.array(data['Energy'])[-1],1000),\n",
    "gaussian(np.linspace(np.array(data['Energy'])[0],np.array(data['Energy'])[-1],1000),result.params['bg'],\n",
    "result.params['amp1'],result.params['cen1'],result.params['wid1']), linestyle='--')\n",
    "\n",
    "######Makes title and axes\n",
    "Eav=np.round(EMin+(EMax-EMin)/2,1)\n",
    "Edif=int(np.round(10*(EMax-EMin)/2,0))\n",
    "if scanvar!='Energy':\n",
    "    axs3.set_title(r\"$\\Delta$E = \"+  str(Eav) + \"(\" + str(Edif) + \") mev\")\n",
    "    axs3.set_title(r\"$\\Delta$E = \"+  str(Eav) + \"(\" + str(Edif) + \") mev. Q$_1$ = \" + str(Q1) + ', Q$_2$ =' +str(Q2))\n",
    "if scanvar=='Energy':\n",
    "    axs3.set_title(r\"Q: \" + str(Q1) + \". FWHM: \" + str(round(result.params['wid1'].value*2*np.sqrt(2*np.log(2)), 3)) + \"+-\" + str(round(result.params['wid1'].stderr*2*np.sqrt(2*np.log(2)), 3)) + \" meV\")\n",
    "    #axs3.set_title(r\"Q: \" + str(Q1) + \". Center 1: \" + str(round(result.params['cen1'].value, 3)) + \" meV.\")\n",
    "    #axs3.set_title(r\"Q: \" + str(Q1) + \". Center 1: \" + str(round(result.params['cen1'].value, 3)) + \" meV. Center 2: \" + str(round(result.params['cen2'].value, 3)) + \" meV.\")\n",
    "    #axs3.set_title(r\"Q: \" + str(Q1))\n",
    "    axs3.set_xlabel('E (meV)')\n",
    "#print(result.chisqr)\n",
    "axs3.hlines(y = result.params['bg'].value + result.params['amp1'].value/(np.sqrt(2*np.pi)*result.params['wid1'].value)/2, xmin = result.params['cen1'].value - result.params['wid1'].value*np.sqrt(2*np.log(2)), xmax = result.params['cen1'].value + result.params['wid1'].value*np.sqrt(2*np.log(2)), linewidth = 2, linestyle = '-', color = 'k')\n",
    "#axs3.legend(frameon=True)\n",
    "axs3.set_ylabel(r'I (abs)')"
   ]
  },
  {
   "cell_type": "markdown",
   "metadata": {
    "jp-MarkdownHeadingCollapsed": true
   },
   "source": [
    "# Load and integrate Ei=4.0 meV elastic line while closing slits"
   ]
  },
  {
   "cell_type": "code",
   "execution_count": null,
   "metadata": {},
   "outputs": [],
   "source": [
    "import matplotlib.pyplot as plt\n",
    "try:\n",
    "    import IPython\n",
    "    shell = IPython.get_ipython()\n",
    "    shell.enable_matplotlib(gui='qt')\n",
    "except:\n",
    "    pass\n",
    "\n",
    "from MJOLNIR import _tools\n",
    "from MJOLNIR.Data import DataSet\n",
    "from lmfit import Model, Parameter, report_fit\n",
    "from MJOLNIR.Data import Mask\n",
    "from MJOLNIR._tools import fileListGenerator\n",
    "\n",
    "import numpy as np\n",
    "from os import path\n",
    "from scipy.ndimage import gaussian_filter\n",
    "from scipy import interpolate\n",
    "import pandas as pd\n",
    "import copy"
   ]
  },
  {
   "cell_type": "code",
   "execution_count": null,
   "metadata": {},
   "outputs": [],
   "source": [
    "def gaussian(x, bg, amp1, cen1, wid1):\n",
    "    return bg+amp1/(np.sqrt(2*np.pi)*wid1) * np.exp(-(x-cen1)**2 /(2*wid1**2))"
   ]
  },
  {
   "cell_type": "code",
   "execution_count": null,
   "metadata": {},
   "outputs": [],
   "source": [
    "def cleaning(ds,treshold):\n",
    "    i=0\n",
    "    for dataset in range(len(ds)):\n",
    "        for a3 in range(0,len(ds.a3[dataset])-1):\n",
    "            if (np.sum(ds[dataset].I[a3,:,:],axis=(0,1))<treshold):\n",
    "                ds[dataset].I[a3,:,:]=0\n",
    "                ds[dataset].Monitor[a3,:,:]=0\n",
    "                i=i+1\n",
    "    return i"
   ]
  },
  {
   "cell_type": "markdown",
   "metadata": {
    "jp-MarkdownHeadingCollapsed": true
   },
   "source": [
    "## Import data: 10.10.24 Improving resolution"
   ]
  },
  {
   "cell_type": "code",
   "execution_count": null,
   "metadata": {},
   "outputs": [],
   "source": [
    "# Original setting: bottom slit = 21 mm, top slit = 11 mm, virtual source slits = 40 mm\n",
    "files = _tools.fileListGenerator(\"2609-2612\",r\"U:\\Data\\CAMEA\\MnF2\\hdf\",2024)\n",
    "ds1 = DataSet.DataSet(files)\n",
    "ds1.convertDataFile(binning = 8,saveFile=False) \n",
    "#check if problems are in some dataset and correct for it:\n",
    "treshold=50\n",
    "i=cleaning(ds1,treshold)\n",
    "print(i)\n",
    "\n",
    "# bottom slit = 21 mm, top slit = 11 mm, virtual source slits closed to 10 mm\n",
    "files = _tools.fileListGenerator(\"2613-2616\",r\"U:\\Data\\CAMEA\\MnF2\\hdf\",2024)\n",
    "ds2 = DataSet.DataSet(files)\n",
    "ds2.convertDataFile(binning = 8,saveFile=False) \n",
    "# Mask tube 23 which is displaced in the older normalization\n",
    "mask=[]\n",
    "mask.append(Mask.indexMask(23,24,axis=1))\n",
    "ds2.mask = [np.logical_or(m1,m2) for m1,m2 in zip(ds2.mask,np.sum(mask)(ds2))]\n",
    "#check if problems are in some dataset and correct for it:\n",
    "treshold=50\n",
    "i=cleaning(ds2,treshold)\n",
    "print(i)\n",
    "\n",
    "# bottom slit = 18 mm, top slit = 8 mm, virtual sample slits closed to 10 mm\n",
    "files = _tools.fileListGenerator(\"2617-2620\",r\"U:\\Data\\CAMEA\\MnF2\\hdf\",2024)\n",
    "ds3 = DataSet.DataSet(files)\n",
    "ds3.convertDataFile(binning = 8,saveFile=False) \n",
    "# Mask tube 23 which is displaced in the older normalization\n",
    "mask=[]\n",
    "mask.append(Mask.indexMask(23,24,axis=1))\n",
    "ds3.mask = [np.logical_or(m1,m2) for m1,m2 in zip(ds3.mask,np.sum(mask)(ds3))]\n",
    "#check if problems are in some dataset and correct for it:\n",
    "treshold=50\n",
    "i=cleaning(ds3,treshold)\n",
    "print(i)\n",
    "\n",
    "# bottom slit = 15 mm, top slit = 5 mm, virtual sample slits closed to 10 mm\n",
    "files = _tools.fileListGenerator(\"2621-2624\",r\"U:\\Data\\CAMEA\\MnF2\\hdf\",2024)\n",
    "ds4 = DataSet.DataSet(files)\n",
    "ds4.convertDataFile(binning = 8,saveFile=False) \n",
    "# Mask tube 23 which is displaced in the older normalization\n",
    "mask=[]\n",
    "mask.append(Mask.indexMask(23,24,axis=1))\n",
    "ds4.mask = [np.logical_or(m1,m2) for m1,m2 in zip(ds4.mask,np.sum(mask)(ds4))]\n",
    "#check if problems are in some dataset and correct for it:\n",
    "treshold=50\n",
    "i=cleaning(ds4,treshold)\n",
    "print(i)\n",
    "\n",
    "# bottom slit = 12 mm, top slit = 2 mm, virtual sample slits closed to 10 mm\n",
    "files = _tools.fileListGenerator(\"2625-2628\",r\"U:\\Data\\CAMEA\\MnF2\\hdf\",2024)\n",
    "ds5 = DataSet.DataSet(files)\n",
    "ds5.convertDataFile(binning = 8,saveFile=False) \n",
    "# Mask tube 23 which is displaced in the older normalization\n",
    "mask=[]\n",
    "mask.append(Mask.indexMask(23,24,axis=1))\n",
    "ds5.mask = [np.logical_or(m1,m2) for m1,m2 in zip(ds5.mask,np.sum(mask)(ds5))]\n",
    "#check if problems are in some dataset and correct for it:\n",
    "treshold=50\n",
    "i=cleaning(ds5,treshold)\n",
    "print(i)\n",
    "\n",
    "# bottom slit = 10 mm, top slit = 0 mm, virtual sample slits closed to 10 mm\n",
    "files = _tools.fileListGenerator(\"2629-2632\",r\"U:\\Data\\CAMEA\\MnF2\\hdf\",2024)\n",
    "ds6 = DataSet.DataSet(files)\n",
    "ds6.convertDataFile(binning = 8,saveFile=False) \n",
    "# Mask tube 23 which is displaced in the older normalization\n",
    "mask=[]\n",
    "mask.append(Mask.indexMask(23,24,axis=1))\n",
    "ds6.mask = [np.logical_or(m1,m2) for m1,m2 in zip(ds6.mask,np.sum(mask)(ds6))]\n",
    "#check if problems are in some dataset and correct for it:\n",
    "treshold=50\n",
    "i=cleaning(ds6,treshold)\n",
    "print(i)"
   ]
  },
  {
   "cell_type": "markdown",
   "metadata": {
    "jp-MarkdownHeadingCollapsed": true
   },
   "source": [
    "## Integrate elastic line"
   ]
  },
  {
   "cell_type": "code",
   "execution_count": null,
   "metadata": {},
   "outputs": [],
   "source": [
    "Q = np.array([0.5,0.5,0.5])  #Q-position\n",
    "\n",
    "width = 100 #integration width perpendicular to Q in 1/A\n",
    "minPixel = 0.05 #step along Energy\n",
    "EMin = -0.5 #Minimum of energy\n",
    "EMax = 0.5 #Maximum of enerrgy\n",
    "rlu = True\n",
    "constantBins = True\n",
    "\n",
    "# bottom slit = 21 mm, top slit = 11 mm, virtual source slits = 40 mm\n",
    "data1, bin1 = ds1.cut1DE(E1=EMin, E2=EMax, q=Q, width=width, minPixel=minPixel, rlu=rlu, constantBins=constantBins, ufit=False)\n",
    "fig1, axs1 = plt.subplots(1,figsize=(5,5))\n",
    "axs1.errorbar(data1['Energy'], data1['Int'], data1['Int_err'], marker='o', linestyle='')\n",
    "gmodel = Model(gaussian)\n",
    "result = gmodel.fit(data1['Int'], x=data1['Energy'], bg=0.001, amp1=1, cen1=0, wid1=0.1)\n",
    "axs1.plot(np.linspace(np.array(data1['Energy'])[0], np.array(data1['Energy'])[-1], 1000),\n",
    "gaussian(np.linspace(np.array(data1['Energy'])[0], np.array(data1['Energy'])[-1], 1000), result.params['bg'],\n",
    "result.params['amp1'], result.params['cen1'], result.params['wid1']), linestyle='--')\n",
    "fwhm1 = result.params['wid1'].value*2*np.sqrt(2*np.log(2))\n",
    "fwhmErr1 = result.params['wid1'].stderr*2*np.sqrt(2*np.log(2))\n",
    "vSlit1 = 32 # Vertical slit width\n",
    "axs1.set_title(r\"Q: \" + str(Q) + \". FWHM: \" + str(round(result.params['wid1'].value*2*np.sqrt(2*np.log(2)), 3)) + \"+-\" + str(round(result.params['wid1'].stderr*2*np.sqrt(2*np.log(2)), 3)) + \" meV\")\n",
    "axs1.set_xlabel('E (meV)')\n",
    "axs1.hlines(y = result.params['bg'].value + result.params['amp1'].value/(np.sqrt(2*np.pi)*result.params['wid1'].value)/2, xmin = result.params['cen1'].value - result.params['wid1'].value*np.sqrt(2*np.log(2)), xmax = result.params['cen1'].value + result.params['wid1'].value*np.sqrt(2*np.log(2)), linewidth = 2, linestyle = '-', color = 'k')\n",
    "axs1.set_ylabel(r'I (abs)')\n",
    "\n",
    "print('Ei = 4.0 meV elastic line FWHM before closing slits: ' + str(round(result.params['wid1'].value*2*np.sqrt(2*np.log(2)), 3)) + \"+-\" + str(round(result.params['wid1'].stderr*2*np.sqrt(2*np.log(2)), 3)) + \" meV\")\n",
    "\n",
    "# Closed virtual source slits to 10 mm\n",
    "# bottom slit = 21 mm, top slit = 11 mm\n",
    "data2, bin2 = ds2.cut1DE(E1=EMin, E2=EMax, q=Q, width=width, minPixel=minPixel, rlu=rlu, constantBins=constantBins, ufit=False)\n",
    "fig2, axs2 = plt.subplots(1,figsize=(5,5))\n",
    "axs2.errorbar(data2['Energy'], data2['Int'], data2['Int_err'], marker='o', linestyle='')\n",
    "gmodel = Model(gaussian)\n",
    "result = gmodel.fit(data2['Int'], x=data2['Energy'], bg=0.001, amp1=1, cen1=0, wid1=0.1)\n",
    "axs2.plot(np.linspace(np.array(data2['Energy'])[0], np.array(data2['Energy'])[-1], 1000),\n",
    "gaussian(np.linspace(np.array(data2['Energy'])[0], np.array(data2['Energy'])[-1], 1000), result.params['bg'],\n",
    "result.params['amp1'], result.params['cen1'], result.params['wid1']), linestyle='--')\n",
    "fwhm2 = result.params['wid1'].value*2*np.sqrt(2*np.log(2))\n",
    "fwhmErr2 = result.params['wid1'].stderr*2*np.sqrt(2*np.log(2))\n",
    "vSlit2 = 32 # Vertical slit width\n",
    "axs2.set_title(r\"Q: \" + str(Q) + \". FWHM: \" + str(round(result.params['wid1'].value*2*np.sqrt(2*np.log(2)), 3)) + \"+-\" + str(round(result.params['wid1'].stderr*2*np.sqrt(2*np.log(2)), 3)) + \" meV\")\n",
    "axs2.set_xlabel('E (meV)')\n",
    "axs2.hlines(y = result.params['bg'].value + result.params['amp1'].value/(np.sqrt(2*np.pi)*result.params['wid1'].value)/2, xmin = result.params['cen1'].value - result.params['wid1'].value*np.sqrt(2*np.log(2)), xmax = result.params['cen1'].value + result.params['wid1'].value*np.sqrt(2*np.log(2)), linewidth = 2, linestyle = '-', color = 'k')\n",
    "axs2.set_ylabel(r'I (abs)')\n",
    "\n",
    "print('Ei = 4.0 meV elastic line FWHM after closing virtual slits: ' + str(round(result.params['wid1'].value*2*np.sqrt(2*np.log(2)), 3)) + \"+-\" + str(round(result.params['wid1'].stderr*2*np.sqrt(2*np.log(2)), 3)) + \" meV\")\n",
    "\n",
    "# bottom slit = 18 mm, top slit = 8 mm\n",
    "data3, bin3 = ds3.cut1DE(E1=EMin, E2=EMax, q=Q, width=width, minPixel=minPixel, rlu=rlu, constantBins=constantBins, ufit=False)\n",
    "fig3, axs3 = plt.subplots(1,figsize=(5,5))\n",
    "axs3.errorbar(data3['Energy'], data3['Int'], data3['Int_err'], marker='o', linestyle='')\n",
    "gmodel = Model(gaussian)\n",
    "result = gmodel.fit(data3['Int'], x=data3['Energy'], bg=0.001, amp1=1, cen1=0, wid1=0.1)\n",
    "axs3.plot(np.linspace(np.array(data3['Energy'])[0], np.array(data3['Energy'])[-1], 1000),\n",
    "gaussian(np.linspace(np.array(data3['Energy'])[0], np.array(data3['Energy'])[-1], 1000), result.params['bg'],\n",
    "result.params['amp1'], result.params['cen1'], result.params['wid1']), linestyle='--')\n",
    "fwhm3 = result.params['wid1'].value*2*np.sqrt(2*np.log(2))\n",
    "fwhmErr3 = result.params['wid1'].stderr*2*np.sqrt(2*np.log(2))\n",
    "vSlit3 = 26 # Vertical slit width\n",
    "axs3.set_title(r\"Q: \" + str(Q) + \". FWHM: \" + str(round(result.params['wid1'].value*2*np.sqrt(2*np.log(2)), 3)) + \"+-\" + str(round(result.params['wid1'].stderr*2*np.sqrt(2*np.log(2)), 3)) + \" meV\")\n",
    "axs3.set_xlabel('E (meV)')\n",
    "axs3.hlines(y = result.params['bg'].value + result.params['amp1'].value/(np.sqrt(2*np.pi)*result.params['wid1'].value)/2, xmin = result.params['cen1'].value - result.params['wid1'].value*np.sqrt(2*np.log(2)), xmax = result.params['cen1'].value + result.params['wid1'].value*np.sqrt(2*np.log(2)), linewidth = 2, linestyle = '-', color = 'k')\n",
    "axs3.set_ylabel(r'I (abs)')\n",
    "\n",
    "# bottom slit = 15 mm, top slit = 5 mm\n",
    "data4, bin4 = ds4.cut1DE(E1=EMin, E2=EMax, q=Q, width=width, minPixel=minPixel, rlu=rlu, constantBins=constantBins, ufit=False)\n",
    "fig4, axs4 = plt.subplots(1,figsize=(5,5))\n",
    "axs4.errorbar(data4['Energy'], data4['Int'], data4['Int_err'], marker='o', linestyle='')\n",
    "gmodel = Model(gaussian)\n",
    "result = gmodel.fit(data4['Int'], x=data4['Energy'], bg=0.001, amp1=1, cen1=0, wid1=0.1)\n",
    "axs4.plot(np.linspace(np.array(data4['Energy'])[0], np.array(data4['Energy'])[-1], 1000),\n",
    "gaussian(np.linspace(np.array(data4['Energy'])[0], np.array(data4['Energy'])[-1], 1000), result.params['bg'],\n",
    "result.params['amp1'], result.params['cen1'], result.params['wid1']), linestyle='--')\n",
    "fwhm4 = result.params['wid1'].value*2*np.sqrt(2*np.log(2))\n",
    "fwhmErr4 = result.params['wid1'].stderr*2*np.sqrt(2*np.log(2))\n",
    "vSlit4 = 20 # Vertical slit width\n",
    "axs4.set_title(r\"Q: \" + str(Q) + \". FWHM: \" + str(round(result.params['wid1'].value*2*np.sqrt(2*np.log(2)), 3)) + \"+-\" + str(round(result.params['wid1'].stderr*2*np.sqrt(2*np.log(2)), 3)) + \" meV\")\n",
    "axs4.set_xlabel('E (meV)')\n",
    "axs4.hlines(y = result.params['bg'].value + result.params['amp1'].value/(np.sqrt(2*np.pi)*result.params['wid1'].value)/2, xmin = result.params['cen1'].value - result.params['wid1'].value*np.sqrt(2*np.log(2)), xmax = result.params['cen1'].value + result.params['wid1'].value*np.sqrt(2*np.log(2)), linewidth = 2, linestyle = '-', color = 'k')\n",
    "axs4.set_ylabel(r'I (abs)')\n",
    "\n",
    "# bottom slit = 12 mm, top slit = 2 mm\n",
    "data5, bin5 = ds5.cut1DE(E1=EMin, E2=EMax, q=Q, width=width, minPixel=minPixel, rlu=rlu, constantBins=constantBins, ufit=False)\n",
    "fig5, axs5 = plt.subplots(1,figsize=(5,5))\n",
    "axs5.errorbar(data5['Energy'], data5['Int'], data5['Int_err'], marker='o', linestyle='')\n",
    "gmodel = Model(gaussian)\n",
    "result = gmodel.fit(data5['Int'], x=data5['Energy'], bg=0.001, amp1=1, cen1=0, wid1=0.1)\n",
    "axs5.plot(np.linspace(np.array(data5['Energy'])[0], np.array(data5['Energy'])[-1], 1000),\n",
    "gaussian(np.linspace(np.array(data5['Energy'])[0], np.array(data5['Energy'])[-1], 1000), result.params['bg'],\n",
    "result.params['amp1'], result.params['cen1'], result.params['wid1']), linestyle='--')\n",
    "fwhm5 = result.params['wid1'].value*2*np.sqrt(2*np.log(2))\n",
    "fwhmErr5 = result.params['wid1'].stderr*2*np.sqrt(2*np.log(2))\n",
    "vSlit5 = 14 # Vertical slit width\n",
    "axs5.set_title(r\"Q: \" + str(Q) + \". FWHM: \" + str(round(result.params['wid1'].value*2*np.sqrt(2*np.log(2)), 3)) + \"+-\" + str(round(result.params['wid1'].stderr*2*np.sqrt(2*np.log(2)), 3)) + \" meV\")\n",
    "axs5.set_xlabel('E (meV)')\n",
    "axs5.hlines(y = result.params['bg'].value + result.params['amp1'].value/(np.sqrt(2*np.pi)*result.params['wid1'].value)/2, xmin = result.params['cen1'].value - result.params['wid1'].value*np.sqrt(2*np.log(2)), xmax = result.params['cen1'].value + result.params['wid1'].value*np.sqrt(2*np.log(2)), linewidth = 2, linestyle = '-', color = 'k')\n",
    "axs5.set_ylabel(r'I (abs)')\n",
    "\n",
    "# bottom slit = 10 mm, top slit = 0 mm\n",
    "data6, bin6 = ds6.cut1DE(E1=EMin, E2=EMax, q=Q, width=width, minPixel=minPixel, rlu=rlu, constantBins=constantBins, ufit=False)\n",
    "fig6, axs6 = plt.subplots(1,figsize=(5,5))\n",
    "axs6.errorbar(data6['Energy'], data6['Int'], data6['Int_err'], marker='o', linestyle='')\n",
    "gmodel = Model(gaussian)\n",
    "result = gmodel.fit(data6['Int'], x=data6['Energy'], bg=0.001, amp1=1, cen1=0, wid1=0.1)\n",
    "axs6.plot(np.linspace(np.array(data6['Energy'])[0], np.array(data6['Energy'])[-1], 1000),\n",
    "gaussian(np.linspace(np.array(data6['Energy'])[0], np.array(data6['Energy'])[-1], 1000), result.params['bg'],\n",
    "result.params['amp1'], result.params['cen1'], result.params['wid1']), linestyle='--')\n",
    "fwhm6 = result.params['wid1'].value*2*np.sqrt(2*np.log(2))\n",
    "fwhmErr6 = result.params['wid1'].stderr*2*np.sqrt(2*np.log(2))\n",
    "vSlit6 = 10 # Vertical slit width\n",
    "axs6.set_title(r\"Q: \" + str(Q) + \". FWHM: \" + str(round(result.params['wid1'].value*2*np.sqrt(2*np.log(2)), 3)) + \"+-\" + str(round(result.params['wid1'].stderr*2*np.sqrt(2*np.log(2)), 3)) + \" meV\")\n",
    "axs6.set_xlabel('E (meV)')\n",
    "axs6.hlines(y = result.params['bg'].value + result.params['amp1'].value/(np.sqrt(2*np.pi)*result.params['wid1'].value)/2, xmin = result.params['cen1'].value - result.params['wid1'].value*np.sqrt(2*np.log(2)), xmax = result.params['cen1'].value + result.params['wid1'].value*np.sqrt(2*np.log(2)), linewidth = 2, linestyle = '-', color = 'k')\n",
    "axs6.set_ylabel(r'I (abs)')\n",
    "\n",
    "print('Ei = 4.0 meV elastic line FWHM after closing slits: ' + str(round(result.params['wid1'].value*2*np.sqrt(2*np.log(2)), 3)) + \"+-\" + str(round(result.params['wid1'].stderr*2*np.sqrt(2*np.log(2)), 3)) + \" meV\")\n",
    "\n",
    "vSlit = [vSlit1, vSlit2, vSlit3, vSlit4, vSlit5, vSlit6]\n",
    "fwhm = [fwhm1, fwhm2, fwhm3, fwhm4, fwhm5, fwhm6]\n",
    "fwhmErr = [fwhmErr1, fwhmErr2, fwhmErr3, fwhmErr4, fwhmErr5, fwhmErr6]\n",
    "fig, axs = plt.subplots(1,figsize=(5,5))\n",
    "axs.errorbar(vSlit, fwhm, fwhmErr, marker='o', linestyle='', markersize='10', capsize=3, elinewidth=3)"
   ]
  },
  {
   "cell_type": "markdown",
   "metadata": {
    "jp-MarkdownHeadingCollapsed": true
   },
   "source": [
    "## Cut through HHL 0 T global scan 6.9 meV mode"
   ]
  },
  {
   "cell_type": "code",
   "execution_count": null,
   "metadata": {},
   "outputs": [],
   "source": [
    "files = _tools.fileListGenerator(\"2588-2608\",r\"U:\\Data\\CAMEA\\MnF2\\hdf\",2024)\n",
    "dsHHL = DataSet.DataSet(files)\n",
    "dsHHL.convertDataFile(binning = 8,saveFile=False) \n",
    "#check if problems are in some dataset and correct for it:\n",
    "treshold=50\n",
    "i=cleaning(dsHHL,treshold)\n",
    "print(i)\n",
    "\n",
    "# Symmetrize\n",
    "for i,df in enumerate(dsHHL):\n",
    "    H,K,L = df.h,df.k,df.l\n",
    "    df.qx,df.qy = df.sample.calculateHKLToQxQy(np.abs(H),np.abs(K),np.abs(L))"
   ]
  },
  {
   "cell_type": "code",
   "execution_count": null,
   "metadata": {},
   "outputs": [],
   "source": [
    "Q = np.array([0.5,0.5,0.5])  #Q-position\n",
    "\n",
    "width = 0.05 # integration width perpendicular to Q in 1/A\n",
    "minPixel = 0.08 # step along Energy\n",
    "EMin = 6.0 # Minimum of energy\n",
    "EMax = 8.0 # Maximum of enerrgy\n",
    "rlu = True\n",
    "constantBins = True\n",
    "\n",
    "dataHHL, binHHL = dsHHL.cut1DE(E1=EMin, E2=EMax, q=Q, width=width, minPixel=minPixel, rlu=rlu, constantBins=constantBins, ufit=False)\n",
    "figHHL, axsHHL = plt.subplots(1,figsize=(5,5))\n",
    "axsHHL.errorbar(dataHHL['Energy'], dataHHL['Int'], dataHHL['Int_err'], marker='o', linestyle='')\n",
    "gmodel = Model(gaussian)\n",
    "result = gmodel.fit(dataHHL['Int'], x=dataHHL['Energy'], bg=0.001, amp1=1, cen1=7.0, wid1=0.1)\n",
    "axsHHL.plot(np.linspace(np.array(dataHHL['Energy'])[0], np.array(dataHHL['Energy'])[-1], 1000),\n",
    "gaussian(np.linspace(np.array(dataHHL['Energy'])[0], np.array(dataHHL['Energy'])[-1], 1000), result.params['bg'],\n",
    "result.params['amp1'], result.params['cen1'], result.params['wid1']), linestyle='--')\n",
    "fwhmHHL = result.params['wid1'].value*2*np.sqrt(2*np.log(2))\n",
    "fwhmErrHHL = result.params['wid1'].stderr*2*np.sqrt(2*np.log(2))\n",
    "axsHHL.set_title(r\"Q: \" + str(Q) + \". FWHM: \" + str(round(result.params['wid1'].value*2*np.sqrt(2*np.log(2)), 3)) + \"+-\" + str(round(result.params['wid1'].stderr*2*np.sqrt(2*np.log(2)), 3)) + \" meV\")\n",
    "axsHHL.set_xlabel('E (meV)')\n",
    "axsHHL.hlines(y = result.params['bg'].value + result.params['amp1'].value/(np.sqrt(2*np.pi)*result.params['wid1'].value)/2, xmin = result.params['cen1'].value - result.params['wid1'].value*np.sqrt(2*np.log(2)), xmax = result.params['cen1'].value + result.params['wid1'].value*np.sqrt(2*np.log(2)), linewidth = 2, linestyle = '-', color = 'k')\n",
    "axsHHL.set_ylabel(r'I (abs)')\n",
    "\n",
    "print('Ei = 11.5 meV, Ef = 4.6 meV inelastic mode at (1/2,1/2,1/2) FWHM before closing slits: ' + str(round(result.params['wid1'].value*2*np.sqrt(2*np.log(2)), 3)) + \"+-\" + str(round(result.params['wid1'].stderr*2*np.sqrt(2*np.log(2)), 3)) + \" meV\")"
   ]
  },
  {
   "cell_type": "markdown",
   "metadata": {
    "jp-MarkdownHeadingCollapsed": true
   },
   "source": [
    "# Look for dipole-dipole splitting from M to A"
   ]
  },
  {
   "cell_type": "markdown",
   "metadata": {
    "jp-MarkdownHeadingCollapsed": true
   },
   "source": [
    "## Import libraries and define functions"
   ]
  },
  {
   "cell_type": "code",
   "execution_count": null,
   "metadata": {},
   "outputs": [],
   "source": [
    "import matplotlib.pyplot as plt\n",
    "try:\n",
    "    import IPython\n",
    "    shell = IPython.get_ipython()\n",
    "    shell.enable_matplotlib(gui='qt')\n",
    "except:\n",
    "    pass\n",
    "\n",
    "from MJOLNIR import _tools\n",
    "from MJOLNIR.Data import DataSet\n",
    "from lmfit import Model, Parameter, report_fit\n",
    "from MJOLNIR.Data import Mask\n",
    "from MJOLNIR._tools import fileListGenerator\n",
    "\n",
    "import numpy as np\n",
    "from os import path\n",
    "from scipy.ndimage import gaussian_filter\n",
    "from scipy import interpolate\n",
    "import pandas as pd\n",
    "import copy\n",
    "\n",
    "def gaussian(x, bg, amp1, cen1, wid1):\n",
    "    return bg+amp1/(np.sqrt(2*np.pi)*wid1) * np.exp(-(x-cen1)**2 /(2*wid1**2))\n",
    "\n",
    "def cleaning(ds,treshold):\n",
    "    i=0\n",
    "    for dataset in range(len(ds)):\n",
    "        for a3 in range(0,len(ds.a3[dataset])-1):\n",
    "            if (np.sum(ds[dataset].I[a3,:,:],axis=(0,1))<treshold):\n",
    "                ds[dataset].I[a3,:,:]=0\n",
    "                ds[dataset].Monitor[a3,:,:]=0\n",
    "                i=i+1\n",
    "    return i"
   ]
  },
  {
   "cell_type": "markdown",
   "metadata": {
    "jp-MarkdownHeadingCollapsed": true
   },
   "source": [
    "## Import and fit to low-resolution (H0L) data"
   ]
  },
  {
   "cell_type": "code",
   "execution_count": null,
   "metadata": {},
   "outputs": [],
   "source": [
    "# Import H0L data\n",
    "files = _tools.fileListGenerator(\"1371-1388\",r\"U:\\Data\\CAMEA\\MnF2\\hdfH0L\",2021)\n",
    "dsH0L = DataSet.DataSet(files)\n",
    "dsH0L.convertDataFile(binning = 8,saveFile=False) \n",
    "#check if problems are in some dataset and correct for it:\n",
    "treshold=50\n",
    "i=cleaning(dsH0L,treshold)\n",
    "print(i)\n",
    "\n",
    "# Symmetrize\n",
    "for i,df in enumerate(dsH0L):\n",
    "    H,K,L = df.h,df.k,df.l\n",
    "    df.qx,df.qy = df.sample.calculateHKLToQxQy(np.abs(H),np.abs(K),np.abs(L)) "
   ]
  },
  {
   "cell_type": "code",
   "execution_count": null,
   "metadata": {},
   "outputs": [],
   "source": [
    "# Plot QE slice\n",
    "%matplotlib qt\n",
    "dset = dsH0L\n",
    "rlu = True\n",
    "#grid = -10\n",
    "grid = False\n",
    "self = dset\n",
    "dataFiles = None\n",
    "rlu = True\n",
    "Q1 = np.array([1,0,0]) #Q1 of cut\n",
    "Q2 = np.array([0.5,0,0.5]) #Q2 of cut\n",
    "EMin = 0 #Energy minimum\n",
    "EMax = 8 #Energy maximum\n",
    "dE = 0.1 #Energy steps\n",
    "energy = np.arange(EMin,EMax,dE)\n",
    "width = 0.04 #integration width perpendicular to Q in 1/A\n",
    "minPixel = 0.03 #step along Q in 1/A\n",
    "vmin = 0 #caxis minimum\n",
    "vmax = 0.1 #caxis maximum\n",
    "\n",
    "ax,data,bins = dset.plotCutQE(Q1,Q2,EnergyBins=energy,width=width,minPixel=minPixel,vmin=vmin,vmax=vmax,colorbar=True,cmap='turbo')\n",
    "ax.set_ylabel(r'$\\mathrm{\\Delta}\\mathit{E}$ (meV)', fontsize=16)\n",
    "ax.set_xlabel(\"\")\n",
    "ax.tick_params(axis='both', which='major', labelsize=16)\n",
    "ax.set_clim(vmin, vmax)\n",
    "ax.set_xlim(0, 1)\n",
    "ax.get_figure().set_size_inches(10,5)\n",
    "ax.set_xticks([0, 1], (r\"$\\Gamma$\", \"R\"))\n",
    "cb = ax.colorbar\n",
    "cb.set_label(label='$I$ (arb. units)', size=16)\n",
    "cb.ax.tick_params(labelsize=16)\n",
    "cb.set_ticks([vmin, vmax])\n",
    "plt.show()"
   ]
  },
  {
   "cell_type": "markdown",
   "metadata": {
    "jp-MarkdownHeadingCollapsed": true
   },
   "source": [
    "## Import and fit to low-resolution (HHL) data"
   ]
  },
  {
   "cell_type": "code",
   "execution_count": null,
   "metadata": {},
   "outputs": [],
   "source": [
    "# Import HHL data\n",
    "files = _tools.fileListGenerator(\"2588-2608\",r\"U:\\Data\\CAMEA\\MnF2\\hdf\",2024)\n",
    "dsHHL = DataSet.DataSet(files)\n",
    "dsHHL.convertDataFile(binning = 8,saveFile=False) \n",
    "#check if problems are in some dataset and correct for it:\n",
    "treshold=50\n",
    "i=cleaning(dsHHL,treshold)\n",
    "print(i)\n",
    "\n",
    "# Symmetrize\n",
    "for i,df in enumerate(dsHHL):\n",
    "    H,K,L = df.h,df.k,df.l\n",
    "    df.qx,df.qy = df.sample.calculateHKLToQxQy(np.abs(H),np.abs(K),np.abs(L))"
   ]
  },
  {
   "cell_type": "code",
   "execution_count": null,
   "metadata": {},
   "outputs": [],
   "source": [
    "# Plot QE slice\n",
    "%matplotlib qt\n",
    "dset = dsHHL\n",
    "rlu = True\n",
    "#grid = -10\n",
    "grid = False\n",
    "self = dset\n",
    "dataFiles = None\n",
    "rlu = True\n",
    "Q1 = np.array([0.5,0.5,1]) #Q1 of cut\n",
    "Q2 = np.array([0.5,0.5,0.5]) #Q2 of cut\n",
    "EMin = 0 #Energy minimum\n",
    "EMax = 8 #Energy maximum\n",
    "dE = 0.1 #Energy steps\n",
    "energy = np.arange(EMin,EMax,dE)\n",
    "width = 0.04 #integration width perpendicular to Q in 1/A\n",
    "minPixel = 0.02 #step along Q in 1/A\n",
    "vmin = 0 #caxis minimum\n",
    "vmax = 1 #caxis maximum\n",
    "\n",
    "ax,data,bins = dset.plotCutQE(Q1,Q2,EnergyBins=energy,width=width,minPixel=minPixel,vmin=vmin,vmax=vmax,colorbar=True,cmap='turbo')\n",
    "ax.set_ylabel(r'$\\mathrm{\\Delta}\\mathit{E}$ (meV)', fontsize=16)\n",
    "ax.set_xlabel(\"\")\n",
    "ax.tick_params(axis='both', which='major', labelsize=16)\n",
    "ax.set_clim(vmin, vmax)\n",
    "ax.set_xlim(0, 1)\n",
    "ax.get_figure().set_size_inches(10,5)\n",
    "ax.set_xticks([0, 1], (\"M\", \"A\"))\n",
    "cb = ax.colorbar\n",
    "cb.set_label(label='$I$ (arb. units)', size=16)\n",
    "cb.ax.tick_params(labelsize=16)\n",
    "cb.set_ticks([vmin, vmax])\n",
    "plt.show()"
   ]
  },
  {
   "cell_type": "code",
   "execution_count": null,
   "metadata": {},
   "outputs": [],
   "source": [
    "# Cut through M\n",
    "Q1 = np.array([0.5,0.5,1])  #Q-position\n",
    "\n",
    "width = 0.05 #integration width perpendicular to Q in 1/A\n",
    "minPixel = 0.04 #step along Energy\n",
    "EMin = 5 #Minimum of energy\n",
    "EMax = 6.8 #Maximum of enerrgy\n",
    "rlu = True\n",
    "constantBins = True\n",
    "scanvar='Energy'\n",
    "fig, ax2 = plt.subplots(1, 1, figsize=(10,5))\n",
    "data, bin = dset.cut1DE(E1=EMin,E2=EMax,q=Q1,width=width,minPixel=minPixel,rlu=rlu,constantBins=constantBins,ufit=False)\n",
    "data = data.drop(data[data['Int']==0].index).reset_index(drop=True) # Drop data pandas dataframe rows with 0 counts\n",
    "ax2.errorbar(data['Energy'],data['Int'],data['Int_err'], marker='o',linestyle='',markersize='10',capsize=3,elinewidth=3)\n",
    "\n",
    "# Fit to a Gaussian and plot\n",
    "gmodel = Model(gaussian)\n",
    "result = gmodel.fit(data['Int'], x=data['Energy'], bg=0.001, amp1=1, cen1=6.2, wid1=0.1, weights=1/data['Int_err'])\n",
    "ax2.plot(np.linspace(np.array(data['Energy'])[0],np.array(data['Energy'])[-1],1000),\n",
    "gaussian(np.linspace(np.array(data['Energy'])[0],np.array(data['Energy'])[-1],1000),result.params['bg'],\n",
    "result.params['amp1'],result.params['cen1'],result.params['wid1']),linestyle='--',color='m',linewidth=2)\n",
    "ax2.set_title('')\n",
    "ax2.set_xlabel(r'$\\mathrm{\\Delta}\\mathit{E}$ (meV)', fontsize=18)\n",
    "ax2.set_ylabel(r'$\\it{I}$ (arb. units)', fontsize=18)\n",
    "ax2.tick_params(axis='both', which='major', labelsize=18)\n",
    "ax2.get_figure().set_size_inches(10,6)\n",
    "print(\"Q: \" + str(Q1) + \"\\n\" \"FWHM: \" + str(round(result.params['wid1'].value*2*np.sqrt(2*np.log(2)), 3)) + r\"+-\" + str(round(result.params['wid1'].stderr*2*np.sqrt(2*np.log(2)), 3)) + \" meV\")"
   ]
  },
  {
   "cell_type": "code",
   "execution_count": null,
   "metadata": {},
   "outputs": [],
   "source": [
    "# Cut through A\n",
    "Q1 = np.array([0.5,0.5,0.5])  #Q-position\n",
    "\n",
    "width = 0.05 #integration width perpendicular to Q in 1/A\n",
    "minPixel = 0.04 #step along Energy\n",
    "EMin = 5.5 #Minimum of energy\n",
    "EMax = 7.5 #Maximum of enerrgy\n",
    "rlu = True\n",
    "constantBins = True\n",
    "scanvar='Energy'\n",
    "fig, ax2 = plt.subplots(1, 1, figsize=(10,5))\n",
    "data, bin = dset.cut1DE(E1=EMin,E2=EMax,q=Q1,width=width,minPixel=minPixel,rlu=rlu,constantBins=constantBins,ufit=False)\n",
    "data = data.drop(data[data['Int']==0].index).reset_index(drop=True) # Drop data pandas dataframe rows with 0 counts\n",
    "ax2.errorbar(data['Energy'],data['Int'],data['Int_err'], marker='o',linestyle='',markersize='10',capsize=3,elinewidth=3)\n",
    "\n",
    "# Fit to a Gaussian and plot\n",
    "gmodel = Model(gaussian)\n",
    "result = gmodel.fit(data['Int'], x=data['Energy'], bg=0.001, amp1=1, cen1=6.8, wid1=0.1, weights=1/data['Int_err'])\n",
    "ax2.plot(np.linspace(np.array(data['Energy'])[0],np.array(data['Energy'])[-1],1000),\n",
    "gaussian(np.linspace(np.array(data['Energy'])[0],np.array(data['Energy'])[-1],1000),result.params['bg'],\n",
    "result.params['amp1'],result.params['cen1'],result.params['wid1']),linestyle='--',color='m',linewidth=2)\n",
    "ax2.set_title('')\n",
    "ax2.set_xlabel(r'$\\mathrm{\\Delta}\\mathit{E}$ (meV)', fontsize=18)\n",
    "ax2.set_ylabel(r'$\\it{I}$ (arb. units)', fontsize=18)\n",
    "ax2.tick_params(axis='both', which='major', labelsize=18)\n",
    "ax2.get_figure().set_size_inches(10,6)\n",
    "print(\"Q: \" + str(Q1) + \"\\n\" \"FWHM: \" + str(round(result.params['wid1'].value*2*np.sqrt(2*np.log(2)), 3)) + r\"+-\" + str(round(result.params['wid1'].stderr*2*np.sqrt(2*np.log(2)), 3)) + \" meV\")"
   ]
  },
  {
   "cell_type": "markdown",
   "metadata": {
    "jp-MarkdownHeadingCollapsed": true
   },
   "source": [
    "## Import and fit to high-resolution (HHL) data"
   ]
  },
  {
   "cell_type": "code",
   "execution_count": null,
   "metadata": {},
   "outputs": [],
   "source": [
    "# High-resolution\n",
    "files = _tools.fileListGenerator(\"2644-2659\",r\"U:\\Data\\CAMEA\\MnF2\\hdf\",2024)\n",
    "dsHR = DataSet.DataSet(files)\n",
    "dsHR.convertDataFile(binning = 8,saveFile=False) \n",
    "\n",
    "# Mask tube 23 which is displaced in the older normalization\n",
    "mask=[]\n",
    "mask.append(Mask.indexMask(23,24,axis=1))\n",
    "dsHR.mask = [np.logical_or(m1,m2) for m1,m2 in zip(dsHR.mask,np.sum(mask)(dsHR))]\n",
    "\n",
    "#check if problems are in some dataset and correct for it:\n",
    "treshold=50\n",
    "i=cleaning(dsHR,treshold)\n",
    "print(i)"
   ]
  },
  {
   "cell_type": "code",
   "execution_count": null,
   "metadata": {},
   "outputs": [],
   "source": [
    "# Plot QE slice\n",
    "%matplotlib qt\n",
    "dset = dsHR\n",
    "rlu = True\n",
    "#grid = -10\n",
    "grid = False\n",
    "self = dset\n",
    "dataFiles = None\n",
    "rlu = True\n",
    "Q1 = np.array([0.5,0.5,1]) #Q1 of cut\n",
    "Q2 = np.array([0.5,0.5,0.5]) #Q2 of cut\n",
    "EMin = 5.0 #Energy minimum\n",
    "EMax = 7.3 #Energy maximum\n",
    "dE = 0.04 #Energy steps\n",
    "energy = np.arange(EMin,EMax,dE)\n",
    "width = 0.05 #integration width perpendicular to Q in 1/A\n",
    "minPixel = 0.05 #step along Q in 1/A\n",
    "vmin = 0 #caxis minimum\n",
    "vmax = 1 #caxis maximum\n",
    "\n",
    "ax,data,bins = dset.plotCutQE(Q1,Q2,EnergyBins=energy,width=width,minPixel=minPixel,vmin=vmin,vmax=vmax,colorbar=True,cmap='turbo')\n",
    "ax.set_ylabel(r'$\\mathrm{\\Delta}\\mathit{E}$ (meV)', fontsize=16)\n",
    "ax.set_xlabel(\"\")\n",
    "ax.tick_params(axis='both', which='major', labelsize=16)\n",
    "ax.set_clim(vmin, vmax)\n",
    "ax.set_xlim(0, 1)\n",
    "ax.get_figure().set_size_inches(10,5)\n",
    "ax.set_xticks([0, 1], (\"M\", \"A\"))\n",
    "cb = ax.colorbar\n",
    "cb.set_label(label='$I$ (arb. units)', size=16)\n",
    "cb.ax.tick_params(labelsize=16)\n",
    "cb.set_ticks([vmin, vmax])\n",
    "plt.show()"
   ]
  },
  {
   "cell_type": "code",
   "execution_count": null,
   "metadata": {},
   "outputs": [],
   "source": [
    "# Cut through M\n",
    "dset = dsHR\n",
    "Q1 = np.array([0.5,0.5,1])  #Q-position\n",
    "width = 0.05 #integration width perpendicular to Q in 1/A\n",
    "minPixel = 0.04 #step along Energy\n",
    "EMin = 5.6 #Minimum of energy\n",
    "EMax = 6.8 #Maximum of enerrgy\n",
    "rlu = True\n",
    "constantBins = True\n",
    "scanvar='Energy'\n",
    "fig, ax2 = plt.subplots(1, 1, figsize=(10,5))\n",
    "data, bin = dset.cut1DE(E1=EMin,E2=EMax,q=Q1,width=width,minPixel=minPixel,rlu=rlu,constantBins=constantBins,ufit=False)\n",
    "data = data.drop(data[data['Int']==0].index).reset_index(drop=True) # Drop data pandas dataframe rows with 0 counts\n",
    "ax2.errorbar(data['Energy'],data['Int'],data['Int_err'], marker='o',linestyle='',markersize='10',capsize=3,elinewidth=3)\n",
    "# Fit to a Gaussian and plot\n",
    "gmodel = Model(gaussian)\n",
    "result = gmodel.fit(data['Int'], x=data['Energy'], bg=0.001, amp1=1, cen1=6.2, wid1=0.1, weights=1/data['Int_err'])\n",
    "ax2.plot(np.linspace(np.array(data['Energy'])[0],np.array(data['Energy'])[-1],1000),\n",
    "gaussian(np.linspace(np.array(data['Energy'])[0],np.array(data['Energy'])[-1],1000),result.params['bg'],\n",
    "result.params['amp1'],result.params['cen1'],result.params['wid1']),linestyle='--',color='m',linewidth=2)\n",
    "ax2.set_title('')\n",
    "ax2.set_xlabel(r'$\\mathrm{\\Delta}\\mathit{E}$ (meV)', fontsize=18)\n",
    "ax2.set_ylabel(r'$\\it{I}$ (arb. units)', fontsize=18)\n",
    "ax2.tick_params(axis='both', which='major', labelsize=18)\n",
    "ax2.get_figure().set_size_inches(10,6)\n",
    "print(\"Q: \" + str(Q1) + \"\\n\" \"FWHM: \" + str(round(result.params['wid1'].value*2*np.sqrt(2*np.log(2)), 3)) + r\"+-\" + str(round(result.params['wid1'].stderr*2*np.sqrt(2*np.log(2)), 3)) + \" meV\")\n",
    "\n",
    "# Intermediate cuts\n",
    "Q1 = np.array([0.5,0.5,0.9])  #Q-position\n",
    "width = 0.05 #integration width perpendicular to Q in 1/A\n",
    "minPixel = 0.04 #step along Energy\n",
    "EMin = 5.6 #Minimum of energy\n",
    "EMax = 7.0 #Maximum of enerrgy\n",
    "rlu = True\n",
    "constantBins = True\n",
    "scanvar='Energy'\n",
    "fig, ax2 = plt.subplots(1, 1, figsize=(10,5))\n",
    "data, bin = dset.cut1DE(E1=EMin,E2=EMax,q=Q1,width=width,minPixel=minPixel,rlu=rlu,constantBins=constantBins,ufit=False)\n",
    "data = data.drop(data[data['Int']==0].index).reset_index(drop=True) # Drop data pandas dataframe rows with 0 counts\n",
    "ax2.errorbar(data['Energy'],data['Int'],data['Int_err'], marker='o',linestyle='',markersize='10',capsize=3,elinewidth=3)\n",
    "# Fit to a Gaussian and plot\n",
    "gmodel = Model(gaussian)\n",
    "result = gmodel.fit(data['Int'], x=data['Energy'], bg=0.001, amp1=1, cen1=6.2, wid1=0.1, weights=1/data['Int_err'])\n",
    "ax2.plot(np.linspace(np.array(data['Energy'])[0],np.array(data['Energy'])[-1],1000),\n",
    "gaussian(np.linspace(np.array(data['Energy'])[0],np.array(data['Energy'])[-1],1000),result.params['bg'],\n",
    "result.params['amp1'],result.params['cen1'],result.params['wid1']),linestyle='--',color='m',linewidth=2)\n",
    "ax2.set_title('')\n",
    "ax2.set_xlabel(r'$\\mathrm{\\Delta}\\mathit{E}$ (meV)', fontsize=18)\n",
    "ax2.set_ylabel(r'$\\it{I}$ (arb. units)', fontsize=18)\n",
    "ax2.tick_params(axis='both', which='major', labelsize=18)\n",
    "ax2.get_figure().set_size_inches(10,6)\n",
    "print(\"Q: \" + str(Q1) + \"\\n\" \"FWHM: \" + str(round(result.params['wid1'].value*2*np.sqrt(2*np.log(2)), 3)) + r\"+-\" + str(round(result.params['wid1'].stderr*2*np.sqrt(2*np.log(2)), 3)) + \" meV\")\n",
    "\n",
    "Q1 = np.array([0.5,0.5,0.8])  #Q-position\n",
    "width = 0.05 #integration width perpendicular to Q in 1/A\n",
    "minPixel = 0.04 #step along Energy\n",
    "EMin = 5.8 #Minimum of energy\n",
    "EMax = 7.5 #Maximum of enerrgy\n",
    "rlu = True\n",
    "constantBins = True\n",
    "scanvar='Energy'\n",
    "fig, ax2 = plt.subplots(1, 1, figsize=(10,5))\n",
    "data, bin = dset.cut1DE(E1=EMin,E2=EMax,q=Q1,width=width,minPixel=minPixel,rlu=rlu,constantBins=constantBins,ufit=False)\n",
    "data = data.drop(data[data['Int']==0].index).reset_index(drop=True) # Drop data pandas dataframe rows with 0 counts\n",
    "ax2.errorbar(data['Energy'],data['Int'],data['Int_err'], marker='o',linestyle='',markersize='10',capsize=3,elinewidth=3)\n",
    "# Fit to a Gaussian and plot\n",
    "gmodel = Model(gaussian)\n",
    "result = gmodel.fit(data['Int'], x=data['Energy'], bg=0.001, amp1=1, cen1=6.4, wid1=0.1, weights=1/data['Int_err'])\n",
    "ax2.plot(np.linspace(np.array(data['Energy'])[0],np.array(data['Energy'])[-1],1000),\n",
    "gaussian(np.linspace(np.array(data['Energy'])[0],np.array(data['Energy'])[-1],1000),result.params['bg'],\n",
    "result.params['amp1'],result.params['cen1'],result.params['wid1']),linestyle='--',color='m',linewidth=2)\n",
    "ax2.set_title('')\n",
    "ax2.set_xlabel(r'$\\mathrm{\\Delta}\\mathit{E}$ (meV)', fontsize=18)\n",
    "ax2.set_ylabel(r'$\\it{I}$ (arb. units)', fontsize=18)\n",
    "ax2.tick_params(axis='both', which='major', labelsize=18)\n",
    "ax2.get_figure().set_size_inches(10,6)\n",
    "print(\"Q: \" + str(Q1) + \"\\n\" \"FWHM: \" + str(round(result.params['wid1'].value*2*np.sqrt(2*np.log(2)), 3)) + r\"+-\" + str(round(result.params['wid1'].stderr*2*np.sqrt(2*np.log(2)), 3)) + \" meV\")\n",
    "\n",
    "Q1 = np.array([0.5,0.5,0.7])  #Q-position\n",
    "width = 0.05 #integration width perpendicular to Q in 1/A\n",
    "minPixel = 0.04 #step along Energy\n",
    "EMin = 6.0 #Minimum of energy\n",
    "EMax = 7.5 #Maximum of enerrgy\n",
    "rlu = True\n",
    "constantBins = True\n",
    "scanvar='Energy'\n",
    "fig, ax2 = plt.subplots(1, 1, figsize=(10,5))\n",
    "data, bin = dset.cut1DE(E1=EMin,E2=EMax,q=Q1,width=width,minPixel=minPixel,rlu=rlu,constantBins=constantBins,ufit=False)\n",
    "data = data.drop(data[data['Int']==0].index).reset_index(drop=True) # Drop data pandas dataframe rows with 0 counts\n",
    "ax2.errorbar(data['Energy'],data['Int'],data['Int_err'], marker='o',linestyle='',markersize='10',capsize=3,elinewidth=3)\n",
    "# Fit to a Gaussian and plot\n",
    "gmodel = Model(gaussian)\n",
    "result = gmodel.fit(data['Int'], x=data['Energy'], bg=0.001, amp1=1, cen1=6.7, wid1=0.1, weights=1/data['Int_err'])\n",
    "ax2.plot(np.linspace(np.array(data['Energy'])[0],np.array(data['Energy'])[-1],1000),\n",
    "gaussian(np.linspace(np.array(data['Energy'])[0],np.array(data['Energy'])[-1],1000),result.params['bg'],\n",
    "result.params['amp1'],result.params['cen1'],result.params['wid1']),linestyle='--',color='m',linewidth=2)\n",
    "ax2.set_title('')\n",
    "ax2.set_xlabel(r'$\\mathrm{\\Delta}\\mathit{E}$ (meV)', fontsize=18)\n",
    "ax2.set_ylabel(r'$\\it{I}$ (arb. units)', fontsize=18)\n",
    "ax2.tick_params(axis='both', which='major', labelsize=18)\n",
    "ax2.get_figure().set_size_inches(10,6)\n",
    "print(\"Q: \" + str(Q1) + \"\\n\" \"FWHM: \" + str(round(result.params['wid1'].value*2*np.sqrt(2*np.log(2)), 3)) + r\"+-\" + str(round(result.params['wid1'].stderr*2*np.sqrt(2*np.log(2)), 3)) + \" meV\")\n",
    "\n",
    "Q1 = np.array([0.5,0.5,0.6])  #Q-position\n",
    "width = 0.05 #integration width perpendicular to Q in 1/A\n",
    "minPixel = 0.04 #step along Energy\n",
    "EMin = 6.4 #Minimum of energy\n",
    "EMax = 7.5 #Maximum of enerrgy\n",
    "rlu = True\n",
    "constantBins = True\n",
    "scanvar='Energy'\n",
    "fig, ax2 = plt.subplots(1, 1, figsize=(10,5))\n",
    "data, bin = dset.cut1DE(E1=EMin,E2=EMax,q=Q1,width=width,minPixel=minPixel,rlu=rlu,constantBins=constantBins,ufit=False)\n",
    "data = data.drop(data[data['Int']==0].index).reset_index(drop=True) # Drop data pandas dataframe rows with 0 counts\n",
    "ax2.errorbar(data['Energy'],data['Int'],data['Int_err'], marker='o',linestyle='',markersize='10',capsize=3,elinewidth=3)\n",
    "# Fit to a Gaussian and plot\n",
    "gmodel = Model(gaussian)\n",
    "result = gmodel.fit(data['Int'], x=data['Energy'], bg=0.001, amp1=1, cen1=6.9, wid1=0.1, weights=1/data['Int_err'])\n",
    "ax2.plot(np.linspace(np.array(data['Energy'])[0],np.array(data['Energy'])[-1],1000),\n",
    "gaussian(np.linspace(np.array(data['Energy'])[0],np.array(data['Energy'])[-1],1000),result.params['bg'],\n",
    "result.params['amp1'],result.params['cen1'],result.params['wid1']),linestyle='--',color='m',linewidth=2)\n",
    "ax2.set_title('')\n",
    "ax2.set_xlabel(r'$\\mathrm{\\Delta}\\mathit{E}$ (meV)', fontsize=18)\n",
    "ax2.set_ylabel(r'$\\it{I}$ (arb. units)', fontsize=18)\n",
    "ax2.tick_params(axis='both', which='major', labelsize=18)\n",
    "ax2.get_figure().set_size_inches(10,6)\n",
    "print(\"Q: \" + str(Q1) + \"\\n\" \"FWHM: \" + str(round(result.params['wid1'].value*2*np.sqrt(2*np.log(2)), 3)) + r\"+-\" + str(round(result.params['wid1'].stderr*2*np.sqrt(2*np.log(2)), 3)) + \" meV\")\n",
    "\n",
    "# Cut through A\n",
    "Q1 = np.array([0.5,0.5,0.5])  #Q-position\n",
    "width = 0.05 #integration width perpendicular to Q in 1/A\n",
    "minPixel = 0.04 #step along Energy\n",
    "EMin = 6.4 #Minimum of energy\n",
    "EMax = 7.5 #Maximum of enerrgy\n",
    "rlu = True\n",
    "constantBins = True\n",
    "scanvar='Energy'\n",
    "fig, ax2 = plt.subplots(1, 1, figsize=(10,5))\n",
    "data, bin = dset.cut1DE(E1=EMin,E2=EMax,q=Q1,width=width,minPixel=minPixel,rlu=rlu,constantBins=constantBins,ufit=False)\n",
    "data = data.drop(data[data['Int']==0].index).reset_index(drop=True) # Drop data pandas dataframe rows with 0 counts\n",
    "ax2.errorbar(data['Energy'],data['Int'],data['Int_err'], marker='o',linestyle='',markersize='10',capsize=3,elinewidth=3)\n",
    "# Fit to a Gaussian and plot\n",
    "gmodel = Model(gaussian)\n",
    "result = gmodel.fit(data['Int'], x=data['Energy'], bg=0.001, amp1=1, cen1=6.8, wid1=0.1, weights=1/data['Int_err'])\n",
    "ax2.plot(np.linspace(np.array(data['Energy'])[0],np.array(data['Energy'])[-1],1000),\n",
    "gaussian(np.linspace(np.array(data['Energy'])[0],np.array(data['Energy'])[-1],1000),result.params['bg'],\n",
    "result.params['amp1'],result.params['cen1'],result.params['wid1']),linestyle='--',color='m',linewidth=2)\n",
    "ax2.set_title('')\n",
    "ax2.set_xlabel(r'$\\mathrm{\\Delta}\\mathit{E}$ (meV)', fontsize=18)\n",
    "ax2.set_ylabel(r'$\\it{I}$ (arb. units)', fontsize=18)\n",
    "ax2.tick_params(axis='both', which='major', labelsize=18)\n",
    "ax2.get_figure().set_size_inches(10,6)\n",
    "print(\"Q: \" + str(Q1) + \"\\n\" \"FWHM: \" + str(round(result.params['wid1'].value*2*np.sqrt(2*np.log(2)), 3)) + r\"+-\" + str(round(result.params['wid1'].stderr*2*np.sqrt(2*np.log(2)), 3)) + \" meV\")"
   ]
  }
 ],
 "metadata": {
  "kernelspec": {
   "display_name": "Python 3 (ipykernel)",
   "language": "python",
   "name": "python3"
  },
  "language_info": {
   "codemirror_mode": {
    "name": "ipython",
    "version": 3
   },
   "file_extension": ".py",
   "mimetype": "text/x-python",
   "name": "python",
   "nbconvert_exporter": "python",
   "pygments_lexer": "ipython3",
   "version": "3.12.7"
  }
 },
 "nbformat": 4,
 "nbformat_minor": 4
}
